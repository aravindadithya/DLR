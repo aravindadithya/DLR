{
 "cells": [
  {
   "cell_type": "code",
   "execution_count": 18,
   "id": "9a973385-027e-4096-a93c-53e3b83600f4",
   "metadata": {},
   "outputs": [
    {
     "name": "stdout",
     "output_type": "stream",
     "text": [
      "^C\n"
     ]
    }
   ],
   "source": [
    "!git clone --branch master_colab https://github.com/aravindadithya/DLR"
   ]
  },
  {
   "cell_type": "code",
   "execution_count": 1,
   "id": "fa995ab8-99b4-4dfa-a9f0-d43f0db70f2c",
   "metadata": {},
   "outputs": [
    {
     "name": "stdout",
     "output_type": "stream",
     "text": [
      "Collecting visdom\n",
      "  Downloading visdom-0.2.4.tar.gz (1.4 MB)\n",
      "\u001b[2K     \u001b[90m━━━━━━━━━━━━━━━━━━━━━━━━━━━━━━━━━━━━━━━━\u001b[0m \u001b[32m1.4/1.4 MB\u001b[0m \u001b[31m6.3 MB/s\u001b[0m eta \u001b[36m0:00:00\u001b[0m00:01\u001b[0m00:01\u001b[0m\n",
      "\u001b[?25h  Preparing metadata (setup.py) ... \u001b[?25ldone\n",
      "\u001b[?25hCollecting jsonpatch (from visdom)\n",
      "  Downloading jsonpatch-1.33-py2.py3-none-any.whl.metadata (3.0 kB)\n",
      "Collecting networkx (from visdom)\n",
      "  Downloading networkx-3.5-py3-none-any.whl.metadata (6.3 kB)\n",
      "Requirement already satisfied: numpy>=1.8 in /usr/local/lib/python3.12/dist-packages (from visdom) (2.3.1)\n",
      "Collecting pillow (from visdom)\n",
      "  Downloading pillow-11.3.0-cp312-cp312-manylinux_2_27_x86_64.manylinux_2_28_x86_64.whl.metadata (9.0 kB)\n",
      "Requirement already satisfied: requests in /usr/local/lib/python3.12/dist-packages (from visdom) (2.32.4)\n",
      "Collecting scipy (from visdom)\n",
      "  Downloading scipy-1.16.0-cp312-cp312-manylinux2014_x86_64.manylinux_2_17_x86_64.whl.metadata (61 kB)\n",
      "\u001b[2K     \u001b[90m━━━━━━━━━━━━━━━━━━━━━━━━━━━━━━━━━━━━━━━━\u001b[0m \u001b[32m61.9/61.9 kB\u001b[0m \u001b[31m4.1 MB/s\u001b[0m eta \u001b[36m0:00:00\u001b[0m\n",
      "\u001b[?25hRequirement already satisfied: six in /usr/lib/python3/dist-packages (from visdom) (1.16.0)\n",
      "Requirement already satisfied: tornado in /usr/local/lib/python3.12/dist-packages (from visdom) (6.5.1)\n",
      "Requirement already satisfied: websocket-client in /usr/local/lib/python3.12/dist-packages (from visdom) (1.8.0)\n",
      "Requirement already satisfied: jsonpointer>=1.9 in /usr/local/lib/python3.12/dist-packages (from jsonpatch->visdom) (3.0.0)\n",
      "Requirement already satisfied: charset_normalizer<4,>=2 in /usr/local/lib/python3.12/dist-packages (from requests->visdom) (3.4.2)\n",
      "Requirement already satisfied: idna<4,>=2.5 in /usr/local/lib/python3.12/dist-packages (from requests->visdom) (3.10)\n",
      "Requirement already satisfied: urllib3<3,>=1.21.1 in /usr/local/lib/python3.12/dist-packages (from requests->visdom) (2.5.0)\n",
      "Requirement already satisfied: certifi>=2017.4.17 in /usr/local/lib/python3.12/dist-packages (from requests->visdom) (2025.6.15)\n",
      "Downloading jsonpatch-1.33-py2.py3-none-any.whl (12 kB)\n",
      "Downloading networkx-3.5-py3-none-any.whl (2.0 MB)\n",
      "\u001b[2K   \u001b[90m━━━━━━━━━━━━━━━━━━━━━━━━━━━━━━━━━━━━━━━━\u001b[0m \u001b[32m2.0/2.0 MB\u001b[0m \u001b[31m22.4 MB/s\u001b[0m eta \u001b[36m0:00:00\u001b[0ma \u001b[36m0:00:01\u001b[0m\n",
      "\u001b[?25hDownloading pillow-11.3.0-cp312-cp312-manylinux_2_27_x86_64.manylinux_2_28_x86_64.whl (6.6 MB)\n",
      "\u001b[2K   \u001b[90m━━━━━━━━━━━━━━━━━━━━━━━━━━━━━━━━━━━━━━━━\u001b[0m \u001b[32m6.6/6.6 MB\u001b[0m \u001b[31m25.3 MB/s\u001b[0m eta \u001b[36m0:00:00\u001b[0m00:01\u001b[0m00:01\u001b[0m\n",
      "\u001b[?25hDownloading scipy-1.16.0-cp312-cp312-manylinux2014_x86_64.manylinux_2_17_x86_64.whl (35.1 MB)\n",
      "\u001b[2K   \u001b[90m━━━━━━━━━━━━━━━━━━━━━━━━━━━━━━━━━━━━━━━━\u001b[0m \u001b[32m35.1/35.1 MB\u001b[0m \u001b[31m40.6 MB/s\u001b[0m eta \u001b[36m0:00:00\u001b[0m00:01\u001b[0m00:01\u001b[0m\n",
      "\u001b[?25hBuilding wheels for collected packages: visdom\n",
      "  Building wheel for visdom (setup.py) ... \u001b[?25ldone\n",
      "\u001b[?25h  Created wheel for visdom: filename=visdom-0.2.4-py3-none-any.whl size=1408194 sha256=c195827cd2740cdc366e0d5856b5bf539df86858edd94b1184d8d37f1dabccf3\n",
      "  Stored in directory: /root/.cache/pip/wheels/37/6c/38/64eeaa310e325aacda723e6df1f79ab5e9f31ba195264e04a8\n",
      "Successfully built visdom\n",
      "Installing collected packages: scipy, pillow, networkx, jsonpatch, visdom\n",
      "Successfully installed jsonpatch-1.33 networkx-3.5 pillow-11.3.0 scipy-1.16.0 visdom-0.2.4\n",
      "\u001b[33mWARNING: Running pip as the 'root' user can result in broken permissions and conflicting behaviour with the system package manager. It is recommended to use a virtual environment instead: https://pip.pypa.io/warnings/venv\u001b[0m\u001b[33m\n",
      "\u001b[0m"
     ]
    }
   ],
   "source": [
    "!pip install visdom\n",
    "#python -m visdom.server -port 8097"
   ]
  },
  {
   "cell_type": "code",
   "execution_count": 3,
   "id": "22e72926-0fbe-4b21-940f-b7a90a81e5c4",
   "metadata": {},
   "outputs": [
    {
     "name": "stdout",
     "output_type": "stream",
     "text": [
      "Collecting matplotlib\n",
      "  Downloading matplotlib-3.10.3-cp312-cp312-manylinux_2_17_x86_64.manylinux2014_x86_64.whl.metadata (11 kB)\n",
      "Collecting contourpy>=1.0.1 (from matplotlib)\n",
      "  Downloading contourpy-1.3.2-cp312-cp312-manylinux_2_17_x86_64.manylinux2014_x86_64.whl.metadata (5.5 kB)\n",
      "Collecting cycler>=0.10 (from matplotlib)\n",
      "  Downloading cycler-0.12.1-py3-none-any.whl.metadata (3.8 kB)\n",
      "Collecting fonttools>=4.22.0 (from matplotlib)\n",
      "  Downloading fonttools-4.58.4-cp312-cp312-manylinux1_x86_64.manylinux2014_x86_64.manylinux_2_17_x86_64.manylinux_2_5_x86_64.whl.metadata (106 kB)\n",
      "\u001b[2K     \u001b[90m━━━━━━━━━━━━━━━━━━━━━━━━━━━━━━━━━━━━━\u001b[0m \u001b[32m106.6/106.6 kB\u001b[0m \u001b[31m735.6 kB/s\u001b[0m eta \u001b[36m0:00:00\u001b[0ma \u001b[36m0:00:01\u001b[0m\n",
      "\u001b[?25hCollecting kiwisolver>=1.3.1 (from matplotlib)\n",
      "  Downloading kiwisolver-1.4.8-cp312-cp312-manylinux_2_17_x86_64.manylinux2014_x86_64.whl.metadata (6.2 kB)\n",
      "Requirement already satisfied: numpy>=1.23 in /usr/local/lib/python3.12/dist-packages (from matplotlib) (2.3.1)\n",
      "Requirement already satisfied: packaging>=20.0 in /usr/local/lib/python3.12/dist-packages (from matplotlib) (25.0)\n",
      "Requirement already satisfied: pillow>=8 in /usr/local/lib/python3.12/dist-packages (from matplotlib) (11.3.0)\n",
      "Requirement already satisfied: pyparsing>=2.3.1 in /usr/lib/python3/dist-packages (from matplotlib) (3.1.1)\n",
      "Requirement already satisfied: python-dateutil>=2.7 in /usr/local/lib/python3.12/dist-packages (from matplotlib) (2.9.0.post0)\n",
      "Requirement already satisfied: six>=1.5 in /usr/lib/python3/dist-packages (from python-dateutil>=2.7->matplotlib) (1.16.0)\n",
      "Downloading matplotlib-3.10.3-cp312-cp312-manylinux_2_17_x86_64.manylinux2014_x86_64.whl (8.6 MB)\n",
      "\u001b[2K   \u001b[90m━━━━━━━━━━━━━━━━━━━━━━━━━━━━━━━━━━━━━━━━\u001b[0m \u001b[32m8.6/8.6 MB\u001b[0m \u001b[31m1.5 MB/s\u001b[0m eta \u001b[36m0:00:00\u001b[0m00:01\u001b[0m00:01\u001b[0m\n",
      "\u001b[?25hDownloading contourpy-1.3.2-cp312-cp312-manylinux_2_17_x86_64.manylinux2014_x86_64.whl (323 kB)\n",
      "\u001b[2K   \u001b[90m━━━━━━━━━━━━━━━━━━━━━━━━━━━━━━━━━━━━━━━━\u001b[0m \u001b[32m323.7/323.7 kB\u001b[0m \u001b[31m1.6 MB/s\u001b[0m eta \u001b[36m0:00:00\u001b[0ma \u001b[36m0:00:01\u001b[0m\n",
      "\u001b[?25hDownloading cycler-0.12.1-py3-none-any.whl (8.3 kB)\n",
      "Downloading fonttools-4.58.4-cp312-cp312-manylinux1_x86_64.manylinux2014_x86_64.manylinux_2_17_x86_64.manylinux_2_5_x86_64.whl (4.9 MB)\n",
      "\u001b[2K   \u001b[90m━━━━━━━━━━━━━━━━━━━━━━━━━━━━━━━━━━━━━━━━\u001b[0m \u001b[32m4.9/4.9 MB\u001b[0m \u001b[31m1.9 MB/s\u001b[0m eta \u001b[36m0:00:00\u001b[0m00:01\u001b[0m00:01\u001b[0m\n",
      "\u001b[?25hDownloading kiwisolver-1.4.8-cp312-cp312-manylinux_2_17_x86_64.manylinux2014_x86_64.whl (1.5 MB)\n",
      "\u001b[2K   \u001b[90m━━━━━━━━━━━━━━━━━━━━━━━━━━━━━━━━━━━━━━━━\u001b[0m \u001b[32m1.5/1.5 MB\u001b[0m \u001b[31m2.1 MB/s\u001b[0m eta \u001b[36m0:00:00\u001b[0m00:01\u001b[0m00:01\u001b[0m\n",
      "\u001b[?25hInstalling collected packages: kiwisolver, fonttools, cycler, contourpy, matplotlib\n",
      "Successfully installed contourpy-1.3.2 cycler-0.12.1 fonttools-4.58.4 kiwisolver-1.4.8 matplotlib-3.10.3\n",
      "\u001b[33mWARNING: Running pip as the 'root' user can result in broken permissions and conflicting behaviour with the system package manager. It is recommended to use a virtual environment instead: https://pip.pypa.io/warnings/venv\u001b[0m\u001b[33m\n",
      "\u001b[0m"
     ]
    }
   ],
   "source": [
    "!pip install matplotlib"
   ]
  },
  {
   "cell_type": "code",
   "execution_count": 3,
   "id": "fdab0346-86df-4fbf-81e0-fd8bf7852831",
   "metadata": {},
   "outputs": [
    {
     "name": "stdout",
     "output_type": "stream",
     "text": [
      "/bin/bash: line 1: python: command not found\n"
     ]
    }
   ],
   "source": [
    "!python -m visdom.server -port 8097"
   ]
  },
  {
   "cell_type": "code",
   "execution_count": 1,
   "id": "256f69c6-5615-448f-a4f9-b2739dc20d3f",
   "metadata": {},
   "outputs": [
    {
     "name": "stdout",
     "output_type": "stream",
     "text": [
      "/workspace/DLR/experiments/rfm_cifar\n",
      "/workspace/DLR\n"
     ]
    }
   ],
   "source": [
    "import sys\n",
    "import os\n",
    "current_dir = os.getcwd()\n",
    "print(current_dir)\n",
    "\n",
    "#parent_dir = os.path.join(current_dir, 'DLR')\n",
    "parent_dir = os.path.dirname(os.path.dirname(current_dir))\n",
    "print(parent_dir)\n",
    "model_dir = os.path.join(parent_dir, 'trained_models', 'CIFAR', 'model2', 'nn_models/')\n",
    "'''\n",
    "parent_dir='C:\\\\Users\\\\garav\\\\AGOP\\\\DLR'\n",
    "model_dir= 'C:\\\\Users\\\\garav\\\\AGOP\\\\DLR\\\\trained_models\\\\MNIST\\\\model4\\\\nn_models\\\\'\n",
    "'''\n",
    "#parent_dir = os.path.abspath(os.path.join(os.getcwd(), os.pardir))\n",
    "sys.path.append(parent_dir)"
   ]
  },
  {
   "cell_type": "code",
   "execution_count": 2,
   "id": "bf0e0afc-223e-4a6b-a086-ff70b0c3fa65",
   "metadata": {},
   "outputs": [
    {
     "name": "stderr",
     "output_type": "stream",
     "text": [
      "Setting up a new session...\n",
      "Without the incoming socket you cannot receive events from the server or register event handlers to your Visdom client.\n"
     ]
    },
    {
     "name": "stdout",
     "output_type": "stream",
     "text": [
      "CURR /workspace/DLR/experiments/rfm_cifar\n",
      "/workspace/DLR/utils\n",
      "CURR /workspace/DLR/experiments/rfm_cifar\n",
      "/workspace/DLR/utils\n",
      "/workspace/DLR/experiments/rfm_cifar\n",
      "/workspace/DLR\n",
      "/workspace/DLR/trained_models/CIFAR/model2/nn_models/\n",
      "/workspace/DLR\n"
     ]
    }
   ],
   "source": [
    "import torch\n",
    "import torchvision\n",
    "import torchvision.transforms as transforms\n",
    "from utils import agop_gcnn as agc\n",
    "from utils import trainer as tr\n",
    "from torch.utils.data import Dataset\n",
    "import random\n",
    "import torch.backends.cudnn as cudnn\n",
    "#import rfm\n",
    "import numpy as np\n",
    "from trained_models.CIFAR.model2 import trainer as t\n",
    "import numpy as np\n",
    "from sklearn.model_selection import train_test_split\n",
    "from torch.linalg import norm\n",
    "from torchvision import models\n",
    "import torch.optim as optim\n",
    "import torch.nn.functional as F\n",
    "import torch.nn as nn\n",
    "from utils.groupy.gconv.pytorch_gconv.splitgconv2d import P4ConvZ2, P4ConvP4, P4MConvZ2, P4MConvP4M\n",
    "from groupy.gconv.make_gconv_indices import *\n",
    "from copy import deepcopy\n",
    "from torch.nn.functional import pad\n",
    "from torch.func import jacrev"
   ]
  },
  {
   "cell_type": "code",
   "execution_count": 3,
   "id": "1b68b66e-8512-4711-9a5d-aa69b405766a",
   "metadata": {},
   "outputs": [
    {
     "name": "stdout",
     "output_type": "stream",
     "text": [
      "Using device: cuda:0\n"
     ]
    }
   ],
   "source": [
    "device = torch.device('cuda:0' if torch.cuda.is_available() else 'cpu')\n",
    "#device='cpu'\n",
    "print(f\"Using device: {device}\")\n"
   ]
  },
  {
   "cell_type": "code",
   "execution_count": 4,
   "id": "a07994f4-a289-4cc0-874f-9836d64db9ef",
   "metadata": {},
   "outputs": [
    {
     "ename": "ModuleNotFoundError",
     "evalue": "No module named 'torch_xla'",
     "output_type": "error",
     "traceback": [
      "\u001b[31m---------------------------------------------------------------------------\u001b[39m",
      "\u001b[31mModuleNotFoundError\u001b[39m                       Traceback (most recent call last)",
      "\u001b[36mCell\u001b[39m\u001b[36m \u001b[39m\u001b[32mIn[4]\u001b[39m\u001b[32m, line 1\u001b[39m\n\u001b[32m----> \u001b[39m\u001b[32m1\u001b[39m \u001b[38;5;28;01mimport\u001b[39;00m\u001b[38;5;250m \u001b[39m\u001b[34;01mtorch_xla\u001b[39;00m\u001b[34;01m.\u001b[39;00m\u001b[34;01mcore\u001b[39;00m\u001b[34;01m.\u001b[39;00m\u001b[34;01mxla_model\u001b[39;00m\u001b[38;5;250m \u001b[39m\u001b[38;5;28;01mas\u001b[39;00m\u001b[38;5;250m \u001b[39m\u001b[34;01mxm\u001b[39;00m\n\u001b[32m      2\u001b[39m device = xm.xla_device()\n\u001b[32m      3\u001b[39m \u001b[38;5;28mprint\u001b[39m(device)\n",
      "\u001b[31mModuleNotFoundError\u001b[39m: No module named 'torch_xla'"
     ]
    }
   ],
   "source": [
    "import torch_xla.core.xla_model as xm\n",
    "device = xm.xla_device()\n",
    "print(device)"
   ]
  },
  {
   "cell_type": "code",
   "execution_count": 4,
   "id": "ac20e0ec-28da-4100-873e-6f753b98db57",
   "metadata": {},
   "outputs": [],
   "source": [
    "torch.cuda.empty_cache()"
   ]
  },
  {
   "cell_type": "code",
   "execution_count": 5,
   "id": "696099c8-5935-435e-b5b1-334086a8fe85",
   "metadata": {},
   "outputs": [
    {
     "name": "stdout",
     "output_type": "stream",
     "text": [
      "ResNet(\n",
      "  (features): Sequential(\n",
      "    (0): P4MConvZ2()\n",
      "    (1): BatchNorm3d(23, eps=1e-05, momentum=0.1, affine=True, track_running_stats=True)\n",
      "    (2): ReLU()\n",
      "    (3): BasicBlock(\n",
      "      (features): Sequential(\n",
      "        (0): P4MConvP4M()\n",
      "        (1): BatchNorm3d(23, eps=1e-05, momentum=0.1, affine=True, track_running_stats=True)\n",
      "        (2): ReLU()\n",
      "        (3): P4MConvP4M()\n",
      "        (4): BatchNorm3d(23, eps=1e-05, momentum=0.1, affine=True, track_running_stats=True)\n",
      "      )\n",
      "      (shortcut): Sequential()\n",
      "      (lrelu): ReLU()\n",
      "    )\n",
      "    (4): BasicBlock(\n",
      "      (features): Sequential(\n",
      "        (0): P4MConvP4M()\n",
      "        (1): BatchNorm3d(23, eps=1e-05, momentum=0.1, affine=True, track_running_stats=True)\n",
      "        (2): ReLU()\n",
      "        (3): P4MConvP4M()\n",
      "        (4): BatchNorm3d(23, eps=1e-05, momentum=0.1, affine=True, track_running_stats=True)\n",
      "      )\n",
      "      (shortcut): Sequential()\n",
      "      (lrelu): ReLU()\n",
      "    )\n",
      "    (5): BasicBlock(\n",
      "      (features): Sequential(\n",
      "        (0): P4MConvP4M()\n",
      "        (1): BatchNorm3d(23, eps=1e-05, momentum=0.1, affine=True, track_running_stats=True)\n",
      "        (2): ReLU()\n",
      "        (3): P4MConvP4M()\n",
      "        (4): BatchNorm3d(23, eps=1e-05, momentum=0.1, affine=True, track_running_stats=True)\n",
      "      )\n",
      "      (shortcut): Sequential()\n",
      "      (lrelu): ReLU()\n",
      "    )\n",
      "    (6): BasicBlock(\n",
      "      (features): Sequential(\n",
      "        (0): P4MConvP4M()\n",
      "        (1): BatchNorm3d(45, eps=1e-05, momentum=0.1, affine=True, track_running_stats=True)\n",
      "        (2): ReLU()\n",
      "        (3): P4MConvP4M()\n",
      "        (4): BatchNorm3d(45, eps=1e-05, momentum=0.1, affine=True, track_running_stats=True)\n",
      "      )\n",
      "      (shortcut): Sequential(\n",
      "        (0): P4MConvP4M()\n",
      "        (1): BatchNorm3d(45, eps=1e-05, momentum=0.1, affine=True, track_running_stats=True)\n",
      "      )\n",
      "      (lrelu): ReLU()\n",
      "    )\n",
      "    (7): BasicBlock(\n",
      "      (features): Sequential(\n",
      "        (0): P4MConvP4M()\n",
      "        (1): BatchNorm3d(45, eps=1e-05, momentum=0.1, affine=True, track_running_stats=True)\n",
      "        (2): ReLU()\n",
      "        (3): P4MConvP4M()\n",
      "        (4): BatchNorm3d(45, eps=1e-05, momentum=0.1, affine=True, track_running_stats=True)\n",
      "      )\n",
      "      (shortcut): Sequential()\n",
      "      (lrelu): ReLU()\n",
      "    )\n",
      "    (8): BasicBlock(\n",
      "      (features): Sequential(\n",
      "        (0): P4MConvP4M()\n",
      "        (1): BatchNorm3d(45, eps=1e-05, momentum=0.1, affine=True, track_running_stats=True)\n",
      "        (2): ReLU()\n",
      "        (3): P4MConvP4M()\n",
      "        (4): BatchNorm3d(45, eps=1e-05, momentum=0.1, affine=True, track_running_stats=True)\n",
      "      )\n",
      "      (shortcut): Sequential()\n",
      "      (lrelu): ReLU()\n",
      "    )\n",
      "    (9): BasicBlock(\n",
      "      (features): Sequential(\n",
      "        (0): P4MConvP4M()\n",
      "        (1): BatchNorm3d(45, eps=1e-05, momentum=0.1, affine=True, track_running_stats=True)\n",
      "        (2): ReLU()\n",
      "        (3): P4MConvP4M()\n",
      "        (4): BatchNorm3d(45, eps=1e-05, momentum=0.1, affine=True, track_running_stats=True)\n",
      "      )\n",
      "      (shortcut): Sequential()\n",
      "      (lrelu): ReLU()\n",
      "    )\n",
      "    (10): BasicBlock(\n",
      "      (features): Sequential(\n",
      "        (0): P4MConvP4M()\n",
      "        (1): BatchNorm3d(91, eps=1e-05, momentum=0.1, affine=True, track_running_stats=True)\n",
      "        (2): ReLU()\n",
      "        (3): P4MConvP4M()\n",
      "        (4): BatchNorm3d(91, eps=1e-05, momentum=0.1, affine=True, track_running_stats=True)\n",
      "      )\n",
      "      (shortcut): Sequential(\n",
      "        (0): P4MConvP4M()\n",
      "        (1): BatchNorm3d(91, eps=1e-05, momentum=0.1, affine=True, track_running_stats=True)\n",
      "      )\n",
      "      (lrelu): ReLU()\n",
      "    )\n",
      "    (11): BasicBlock(\n",
      "      (features): Sequential(\n",
      "        (0): P4MConvP4M()\n",
      "        (1): BatchNorm3d(91, eps=1e-05, momentum=0.1, affine=True, track_running_stats=True)\n",
      "        (2): ReLU()\n",
      "        (3): P4MConvP4M()\n",
      "        (4): BatchNorm3d(91, eps=1e-05, momentum=0.1, affine=True, track_running_stats=True)\n",
      "      )\n",
      "      (shortcut): Sequential()\n",
      "      (lrelu): ReLU()\n",
      "    )\n",
      "    (12): BasicBlock(\n",
      "      (features): Sequential(\n",
      "        (0): P4MConvP4M()\n",
      "        (1): BatchNorm3d(91, eps=1e-05, momentum=0.1, affine=True, track_running_stats=True)\n",
      "        (2): ReLU()\n",
      "        (3): P4MConvP4M()\n",
      "        (4): BatchNorm3d(91, eps=1e-05, momentum=0.1, affine=True, track_running_stats=True)\n",
      "      )\n",
      "      (shortcut): Sequential()\n",
      "      (lrelu): ReLU()\n",
      "    )\n",
      "    (13): BasicBlock(\n",
      "      (features): Sequential(\n",
      "        (0): P4MConvP4M()\n",
      "        (1): BatchNorm3d(91, eps=1e-05, momentum=0.1, affine=True, track_running_stats=True)\n",
      "        (2): ReLU()\n",
      "        (3): P4MConvP4M()\n",
      "        (4): BatchNorm3d(91, eps=1e-05, momentum=0.1, affine=True, track_running_stats=True)\n",
      "      )\n",
      "      (shortcut): Sequential()\n",
      "      (lrelu): ReLU()\n",
      "    )\n",
      "    (14): BasicBlock(\n",
      "      (features): Sequential(\n",
      "        (0): P4MConvP4M()\n",
      "        (1): BatchNorm3d(91, eps=1e-05, momentum=0.1, affine=True, track_running_stats=True)\n",
      "        (2): ReLU()\n",
      "        (3): P4MConvP4M()\n",
      "        (4): BatchNorm3d(91, eps=1e-05, momentum=0.1, affine=True, track_running_stats=True)\n",
      "      )\n",
      "      (shortcut): Sequential()\n",
      "      (lrelu): ReLU()\n",
      "    )\n",
      "    (15): BasicBlock(\n",
      "      (features): Sequential(\n",
      "        (0): P4MConvP4M()\n",
      "        (1): BatchNorm3d(91, eps=1e-05, momentum=0.1, affine=True, track_running_stats=True)\n",
      "        (2): ReLU()\n",
      "        (3): P4MConvP4M()\n",
      "        (4): BatchNorm3d(91, eps=1e-05, momentum=0.1, affine=True, track_running_stats=True)\n",
      "      )\n",
      "      (shortcut): Sequential()\n",
      "      (lrelu): ReLU()\n",
      "    )\n",
      "    (16): BasicBlock(\n",
      "      (features): Sequential(\n",
      "        (0): P4MConvP4M()\n",
      "        (1): BatchNorm3d(181, eps=1e-05, momentum=0.1, affine=True, track_running_stats=True)\n",
      "        (2): ReLU()\n",
      "        (3): P4MConvP4M()\n",
      "        (4): BatchNorm3d(181, eps=1e-05, momentum=0.1, affine=True, track_running_stats=True)\n",
      "      )\n",
      "      (shortcut): Sequential(\n",
      "        (0): P4MConvP4M()\n",
      "        (1): BatchNorm3d(181, eps=1e-05, momentum=0.1, affine=True, track_running_stats=True)\n",
      "      )\n",
      "      (lrelu): ReLU()\n",
      "    )\n",
      "    (17): BasicBlock(\n",
      "      (features): Sequential(\n",
      "        (0): P4MConvP4M()\n",
      "        (1): BatchNorm3d(181, eps=1e-05, momentum=0.1, affine=True, track_running_stats=True)\n",
      "        (2): ReLU()\n",
      "        (3): P4MConvP4M()\n",
      "        (4): BatchNorm3d(181, eps=1e-05, momentum=0.1, affine=True, track_running_stats=True)\n",
      "      )\n",
      "      (shortcut): Sequential()\n",
      "      (lrelu): ReLU()\n",
      "    )\n",
      "    (18): BasicBlock(\n",
      "      (features): Sequential(\n",
      "        (0): P4MConvP4M()\n",
      "        (1): BatchNorm3d(181, eps=1e-05, momentum=0.1, affine=True, track_running_stats=True)\n",
      "        (2): ReLU()\n",
      "        (3): P4MConvP4M()\n",
      "        (4): BatchNorm3d(181, eps=1e-05, momentum=0.1, affine=True, track_running_stats=True)\n",
      "      )\n",
      "      (shortcut): Sequential()\n",
      "      (lrelu): ReLU()\n",
      "    )\n",
      "  )\n",
      "  (classifier): Linear(in_features=1448, out_features=10, bias=True)\n",
      ")\n",
      "Total number of trainable parameters in ResNet: 21350863\n"
     ]
    }
   ],
   "source": [
    "net= t.get_untrained_net()\n",
    "print(net)\n",
    "total_params = sum(p.numel() for p in net.parameters() if p.requires_grad)\n",
    "print(f\"Total number of trainable parameters in ResNet: {total_params}\")"
   ]
  },
  {
   "cell_type": "code",
   "execution_count": 6,
   "id": "2531ad31-a6b8-47a1-9e49-b1bac24307d6",
   "metadata": {},
   "outputs": [
    {
     "name": "stdout",
     "output_type": "stream",
     "text": [
      "Model weights loaded successfully.\n",
      "Model weights loaded successfully.\n",
      "NUMBER OF PARAMS:  31418369\n",
      "Time:  80.25323534011841\n",
      "Epoch:  0 Train Loss:  0.009932412 Test Loss:  0.41551998 Train Acc:  99.97 Test Acc:  90.14 Best Val Acc:  92.69 Best Val Loss:  0.27429533 Best Test Acc:  90.14 Best Test Loss:  0.41551998\n",
      "Time:  80.21320676803589\n",
      "Epoch:  1 Train Loss:  0.008190602 Test Loss:  0.42014205 Train Acc:  99.975 Test Acc:  90.02 Best Val Acc:  92.69 Best Val Loss:  0.27429533 Best Test Acc:  90.14 Best Test Loss:  0.41551998\n",
      "Time:  80.20716142654419\n",
      "Epoch:  2 Train Loss:  0.0071237274 Test Loss:  0.42574906 Train Acc:  99.985 Test Acc:  90.04 Best Val Acc:  92.69 Best Val Loss:  0.27429533 Best Test Acc:  90.14 Best Test Loss:  0.41551998\n"
     ]
    }
   ],
   "source": [
    "trainloader, valloader, testloader = t.get_loaders()\n",
    "#net= t.get_untrained_net()\n",
    "init_net= deepcopy(net)\n",
    "import os\n",
    "if os.path.exists(model_dir+'cifar_gcnn_trained_nn.pth'):\n",
    "    checkpoint = torch.load(model_dir+'cifar_gcnn_trained_nn.pth', map_location=torch.device(device))\n",
    "    net.load_state_dict(checkpoint['state_dict'])  # Access the 'state_dict' within the loaded dictionary\n",
    "    print(\"Model weights loaded successfully.\")\n",
    "\n",
    "#print(\"Train the network first\")\n",
    "t.train_net(device)"
   ]
  },
  {
   "cell_type": "code",
   "execution_count": null,
   "id": "0eaab4fc-baaa-4d66-b98b-8637328dc68e",
   "metadata": {},
   "outputs": [],
   "source": [
    "tr.visualize_predictions(net, testloader, range(10), device, num_images=36)"
   ]
  }
 ],
 "metadata": {
  "kernelspec": {
   "display_name": "Python3 (ipykernel)",
   "language": "python",
   "name": "python3"
  },
  "language_info": {
   "codemirror_mode": {
    "name": "ipython",
    "version": 3
   },
   "file_extension": ".py",
   "mimetype": "text/x-python",
   "name": "python",
   "nbconvert_exporter": "python",
   "pygments_lexer": "ipython3",
   "version": "3.12.11"
  }
 },
 "nbformat": 4,
 "nbformat_minor": 5
}
