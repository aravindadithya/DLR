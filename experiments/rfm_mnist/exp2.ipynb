{
 "cells": [
  {
   "cell_type": "markdown",
   "id": "132b5a3f-434a-480b-b700-57080e223ebe",
   "metadata": {},
   "source": [
    "# Objective"
   ]
  },
  {
   "cell_type": "markdown",
   "id": "860fdfce-6606-49d9-8a09-30882b61807b",
   "metadata": {},
   "source": [
    "This experiment checks the following for a simple convnet on MNIST.\n",
    "1. Verify Agop and NFM relations for the conv layers\n",
    "2. Run RFM to construct similar matrices as the above.(TBD)\n",
    "\n",
    "The model is taken from MNIST/model2"
   ]
  },
  {
   "cell_type": "markdown",
   "id": "20927ac7-5a3a-47f7-b1c3-4ab1da39990d",
   "metadata": {
    "jp-MarkdownHeadingCollapsed": true
   },
   "source": [
    "# Setup"
   ]
  },
  {
   "cell_type": "code",
   "execution_count": 1,
   "id": "7b908e4f-a112-4597-85f8-3bd750a99aa8",
   "metadata": {},
   "outputs": [],
   "source": [
    "import os\n",
    "model_dir= os.path.join('/work/DLR','trained_models', 'MNIST', 'model2', 'nn_models/')\n"
   ]
  },
  {
   "cell_type": "code",
   "execution_count": 2,
   "id": "e2a63f9a-f5d9-452f-a906-f07545fd3d1a",
   "metadata": {},
   "outputs": [
    {
     "name": "stderr",
     "output_type": "stream",
     "text": [
      "Setting up a new session...\n",
      "Without the incoming socket you cannot receive events from the server or register event handlers to your Visdom client.\n"
     ]
    }
   ],
   "source": [
    "import torch\n",
    "import torchvision\n",
    "import torchvision.transforms as transforms\n",
    "from utils import agop_conv as agc\n",
    "from torch.utils.data import Dataset\n",
    "import random\n",
    "import torch.backends.cudnn as cudnn\n",
    "import rfm\n",
    "import numpy as np\n",
    "from trained_models.MNIST.model2 import trainer as t\n",
    "import numpy as np\n",
    "from sklearn.model_selection import train_test_split\n",
    "from torch.linalg import norm\n",
    "from torchvision import models\n",
    "import torch.optim as optim\n",
    "import torch.nn.functional as F\n",
    "import torch.nn as nn\n",
    "from copy import deepcopy"
   ]
  },
  {
   "cell_type": "code",
   "execution_count": 3,
   "id": "c8f9d450-8db0-4963-9a9e-dfaff72b63f6",
   "metadata": {},
   "outputs": [
    {
     "name": "stdout",
     "output_type": "stream",
     "text": [
      "Using device: cuda:0\n"
     ]
    }
   ],
   "source": [
    "device = torch.device('cuda:0' if torch.cuda.is_available() else 'cpu')\n",
    "#device='cpu'\n",
    "print(f\"Using device: {device}\")"
   ]
  },
  {
   "cell_type": "code",
   "execution_count": 16,
   "id": "ed7a279d-7a07-49a0-85e6-615dfa1faf14",
   "metadata": {},
   "outputs": [],
   "source": [
    "torch.cuda.empty_cache()"
   ]
  },
  {
   "cell_type": "code",
   "execution_count": 5,
   "id": "2ee3a4f9-1285-4aad-bfcc-55fd6623a60d",
   "metadata": {},
   "outputs": [
    {
     "name": "stdout",
     "output_type": "stream",
     "text": [
      "Model weights loaded successfully.\n"
     ]
    }
   ],
   "source": [
    "trainloader, valloader, testloader = t.get_loaders()\n",
    "net= t.get_untrained_net()\n",
    "init_net= deepcopy(net)\n",
    "import os\n",
    "if os.path.exists(model_dir+'mnist_conv_trained_nn.pth'):\n",
    "    checkpoint = torch.load(model_dir+'mnist_conv_trained_nn.pth', map_location=torch.device(device), weights_only=True)\n",
    "    net.load_state_dict(checkpoint['state_dict'])  # Access the 'state_dict' within the loaded dictionary\n",
    "    print(\"Model weights loaded successfully.\")\n",
    "else:\n",
    "    print(\"Train the network first\")"
   ]
  },
  {
   "cell_type": "markdown",
   "id": "39a974e0-9a54-4d0f-aafc-d04211dfdb7d",
   "metadata": {},
   "source": [
    "# Verify NFA for conv layers:"
   ]
  },
  {
   "cell_type": "code",
   "execution_count": 6,
   "id": "7b9304d8-7b21-4694-a517-59afabcb3d0b",
   "metadata": {},
   "outputs": [
    {
     "name": "stdout",
     "output_type": "stream",
     "text": [
      "Computing GOP for sample 0 out of 10\n",
      "Computing GOP for sample 1 out of 10\n",
      "Computing GOP for sample 2 out of 10\n",
      "Computing GOP for sample 3 out of 10\n",
      "Computing GOP for sample 4 out of 10\n",
      "Computing GOP for sample 5 out of 10\n",
      "Computing GOP for sample 6 out of 10\n",
      "Computing GOP for sample 7 out of 10\n",
      "Computing GOP for sample 8 out of 10\n",
      "Computing GOP for sample 9 out of 10\n",
      "Computing GOP for sample 10 out of 10\n",
      "Shpae after gradients:  torch.Size([9, 9])\n",
      "Correlation between Initial and Trained CNFM:  tensor(0.8931, device='cuda:0', grad_fn=<DivBackward0>)\n",
      "Correlation between Initial CNFM and Trained AGOP:  tensor(0.8596, device='cuda:0', grad_fn=<DivBackward0>)\n",
      "Correlation between Trained CNFM and Trained AGOP:  tensor(0.9853, device='cuda:0')\n"
     ]
    }
   ],
   "source": [
    "G = agc.verify_NFA(net.to(device), init_net.to(device), trainloader, layer_idx=0)"
   ]
  },
  {
   "cell_type": "code",
   "execution_count": 7,
   "id": "02c8f4db-df8e-4504-8a06-29da71044e4c",
   "metadata": {},
   "outputs": [
    {
     "name": "stdout",
     "output_type": "stream",
     "text": [
      "Computing GOP for sample 0 out of 10\n",
      "Computing GOP for sample 1 out of 10\n",
      "Computing GOP for sample 2 out of 10\n",
      "Computing GOP for sample 3 out of 10\n",
      "Computing GOP for sample 4 out of 10\n",
      "Computing GOP for sample 5 out of 10\n",
      "Computing GOP for sample 6 out of 10\n",
      "Computing GOP for sample 7 out of 10\n",
      "Computing GOP for sample 8 out of 10\n",
      "Computing GOP for sample 9 out of 10\n",
      "Computing GOP for sample 10 out of 10\n",
      "Shpae after gradients:  torch.Size([288, 288])\n",
      "Correlation between Initial and Trained CNFM:  tensor(0.2294, device='cuda:0', grad_fn=<DivBackward0>)\n",
      "Correlation between Initial CNFM and Trained AGOP:  tensor(0.3062, device='cuda:0', grad_fn=<DivBackward0>)\n",
      "Correlation between Trained CNFM and Trained AGOP:  tensor(0.9106, device='cuda:0')\n"
     ]
    }
   ],
   "source": [
    "# Here layer_idx refers to layer_idx+1 th conv layer. \n",
    "G= agc.verify_NFA(net.to(device), init_net.to(device), trainloader, layer_idx=1)"
   ]
  },
  {
   "cell_type": "code",
   "execution_count": 21,
   "id": "90b316c9-db51-49a5-8cf8-22d964ff5a69",
   "metadata": {},
   "outputs": [
    {
     "name": "stdout",
     "output_type": "stream",
     "text": [
      "torch.Size([64, 32, 3, 3])\n",
      "Conv2d(1, 32, kernel_size=(3, 3), stride=(1, 1), padding=(1, 1)) 0\n",
      "Conv2d(32, 64, kernel_size=(3, 3), stride=(1, 1), padding=(1, 1)) 1\n",
      "torch.Size([64, 14, 14, 32, 3, 3])\n",
      "torch.Size([64, 32, 3, 3])\n",
      "Conv2d(1, 32, kernel_size=(3, 3), stride=(1, 1), padding=(1, 1)) 0\n",
      "Conv2d(32, 64, kernel_size=(3, 3), stride=(1, 1), padding=(1, 1)) 1\n",
      "torch.Size([64, 14, 14, 32, 3, 3])\n"
     ]
    }
   ],
   "source": [
    "agc.vis_transform_image(net, imgs[0], None, layer_idx=1)\n",
    "agc.vis_transform_image(net, imgs[0], G, layer_idx=1)"
   ]
  },
  {
   "cell_type": "markdown",
   "id": "767c056e-2a6f-45de-a9b4-dd82409e1a98",
   "metadata": {
    "jp-MarkdownHeadingCollapsed": true
   },
   "source": [
    "# Init AGOP vs Init CNFM"
   ]
  },
  {
   "cell_type": "code",
   "execution_count": 13,
   "id": "5af6e3d1-35ea-4323-bfb5-690d851dc8e0",
   "metadata": {},
   "outputs": [
    {
     "name": "stdout",
     "output_type": "stream",
     "text": [
      "ConvNet(\n",
      "  (features): Sequential(\n",
      "    (0): Conv2d(1, 32, kernel_size=(3, 3), stride=(1, 1), padding=(1, 1))\n",
      "    (1): ReLU()\n",
      "    (2): MaxPool2d(kernel_size=2, stride=2, padding=0, dilation=1, ceil_mode=False)\n",
      "    (3): Conv2d(32, 64, kernel_size=(3, 3), stride=(1, 1), padding=(1, 1))\n",
      "    (4): ReLU()\n",
      "    (5): MaxPool2d(kernel_size=2, stride=2, padding=0, dilation=1, ceil_mode=False)\n",
      "  )\n",
      "  (classifier): Sequential(\n",
      "    (0): Linear(in_features=3136, out_features=128, bias=True)\n",
      "    (1): ReLU()\n",
      "    (2): Linear(in_features=128, out_features=10, bias=True)\n",
      "  )\n",
      ")\n"
     ]
    }
   ],
   "source": [
    "import torch.nn.init as init\n",
    "print(init_net)\n",
    "\n",
    "rand = torch.empty(init_net.features[0].weight.shape)\n",
    "init.uniform_(rand, a=100.0, b=1000.0)\n",
    "init_net.features[0].weight= nn.Parameter(rand)\n",
    "\n",
    "rand = torch.empty(init_net.features[3].weight.shape)\n",
    "init.uniform_(rand, a=300.0, b=500.0)\n",
    "init_net.features[3].weight= nn.Parameter(rand)"
   ]
  },
  {
   "cell_type": "code",
   "execution_count": 15,
   "id": "db9b65d9-4f90-4b77-88e9-63d1068c805d",
   "metadata": {},
   "outputs": [
    {
     "name": "stdout",
     "output_type": "stream",
     "text": [
      "Computing GOP for sample 0 out of 10\n",
      "Computing GOP for sample 1 out of 10\n",
      "Computing GOP for sample 2 out of 10\n",
      "Computing GOP for sample 3 out of 10\n",
      "Computing GOP for sample 4 out of 10\n",
      "Computing GOP for sample 5 out of 10\n",
      "Computing GOP for sample 6 out of 10\n",
      "Computing GOP for sample 7 out of 10\n",
      "Computing GOP for sample 8 out of 10\n",
      "Computing GOP for sample 9 out of 10\n",
      "Computing GOP for sample 10 out of 10\n",
      "Shpae after gradients:  torch.Size([9, 9])\n",
      "Correlation between Initial and Trained CNFM:  tensor(1.0000, device='cuda:0', grad_fn=<DivBackward0>)\n",
      "Correlation between Initial CNFM and Trained AGOP:  tensor(0.9769, device='cuda:0', grad_fn=<DivBackward0>)\n",
      "Correlation between Trained CNFM and Trained AGOP:  tensor(0.9769, device='cuda:0')\n"
     ]
    },
    {
     "data": {
      "text/plain": [
       "tensor([[8.1617e+07, 8.3983e+07, 7.5531e+07, 7.2400e+07, 6.6662e+07, 7.8938e+07,\n",
       "         7.5001e+07, 7.9150e+07, 6.4897e+07],\n",
       "        [8.3983e+07, 1.0506e+08, 8.8824e+07, 8.1690e+07, 7.8068e+07, 8.8005e+07,\n",
       "         9.0400e+07, 9.0718e+07, 7.3648e+07],\n",
       "        [7.5531e+07, 8.8824e+07, 9.7246e+07, 7.8248e+07, 7.3248e+07, 8.2366e+07,\n",
       "         8.3714e+07, 8.4572e+07, 6.6701e+07],\n",
       "        [7.2401e+07, 8.1690e+07, 7.8248e+07, 8.1883e+07, 7.0577e+07, 7.4775e+07,\n",
       "         7.5540e+07, 7.8246e+07, 6.4738e+07],\n",
       "        [6.6664e+07, 7.8068e+07, 7.3248e+07, 7.0577e+07, 7.5668e+07, 7.5522e+07,\n",
       "         7.5591e+07, 7.5660e+07, 6.5375e+07],\n",
       "        [7.8937e+07, 8.8005e+07, 8.2366e+07, 7.4775e+07, 7.5522e+07, 9.7536e+07,\n",
       "         9.0096e+07, 8.7065e+07, 7.6509e+07],\n",
       "        [7.5001e+07, 9.0400e+07, 8.3714e+07, 7.5540e+07, 7.5591e+07, 9.0096e+07,\n",
       "         1.0382e+08, 9.1732e+07, 7.2190e+07],\n",
       "        [7.9150e+07, 9.0718e+07, 8.4572e+07, 7.8246e+07, 7.5660e+07, 8.7065e+07,\n",
       "         9.1732e+07, 1.0059e+08, 7.3020e+07],\n",
       "        [6.4897e+07, 7.3648e+07, 6.6701e+07, 6.4739e+07, 6.5375e+07, 7.6509e+07,\n",
       "         7.2190e+07, 7.3020e+07, 7.7455e+07]])"
      ]
     },
     "execution_count": 15,
     "metadata": {},
     "output_type": "execute_result"
    }
   ],
   "source": [
    "agc.verify_NFA(init_net.to(device), init_net.to(device), trainloader, layer_idx=0)"
   ]
  },
  {
   "cell_type": "code",
   "execution_count": 14,
   "id": "eecd0c9c-37fa-4643-907e-57a58ec3d251",
   "metadata": {},
   "outputs": [
    {
     "name": "stdout",
     "output_type": "stream",
     "text": [
      "Computing GOP for sample 0 out of 10\n",
      "Computing GOP for sample 1 out of 10\n",
      "Computing GOP for sample 2 out of 10\n",
      "Computing GOP for sample 3 out of 10\n",
      "Computing GOP for sample 4 out of 10\n",
      "Computing GOP for sample 5 out of 10\n",
      "Computing GOP for sample 6 out of 10\n",
      "Computing GOP for sample 7 out of 10\n",
      "Computing GOP for sample 8 out of 10\n",
      "Computing GOP for sample 9 out of 10\n",
      "Computing GOP for sample 10 out of 10\n",
      "Shpae after gradients:  torch.Size([288, 288])\n",
      "Correlation between Initial and Trained CNFM:  tensor(1., device='cuda:0', grad_fn=<DivBackward0>)\n",
      "Correlation between Initial CNFM and Trained AGOP:  tensor(0.2695, device='cuda:0', grad_fn=<DivBackward0>)\n",
      "Correlation between Trained CNFM and Trained AGOP:  tensor(0.2695, device='cuda:0')\n"
     ]
    },
    {
     "data": {
      "text/plain": [
       "tensor([[896.3096, 391.1142, 378.9974,  ..., 287.5947, 357.4277, 434.5674],\n",
       "        [387.7697, 787.4019, 310.4827,  ..., 245.9232, 381.1740, 403.9646],\n",
       "        [379.6405, 311.6460, 861.4999,  ..., 395.1466, 374.5538, 372.5050],\n",
       "        ...,\n",
       "        [284.9590, 245.2186, 394.3567,  ..., 801.1650, 353.5975, 309.3864],\n",
       "        [356.6096, 379.0543, 378.0798,  ..., 354.6365, 750.3665, 343.2893],\n",
       "        [435.0036, 403.7472, 372.4563,  ..., 307.5289, 340.9539, 790.8931]])"
      ]
     },
     "execution_count": 14,
     "metadata": {},
     "output_type": "execute_result"
    }
   ],
   "source": [
    "agc.verify_NFA(init_net.to(device), init_net.to(device), trainloader, layer_idx=1)"
   ]
  },
  {
   "cell_type": "code",
   "execution_count": null,
   "id": "9a068225-9d7e-4899-8347-28ec4872b30a",
   "metadata": {},
   "outputs": [],
   "source": [
    "print(\"hello\")"
   ]
  }
 ],
 "metadata": {
  "kernelspec": {
   "display_name": "Python 3 (ipykernel)",
   "language": "python",
   "name": "python3"
  },
  "language_info": {
   "codemirror_mode": {
    "name": "ipython",
    "version": 3
   },
   "file_extension": ".py",
   "mimetype": "text/x-python",
   "name": "python",
   "nbconvert_exporter": "python",
   "pygments_lexer": "ipython3",
   "version": "3.10.12"
  }
 },
 "nbformat": 4,
 "nbformat_minor": 5
}
