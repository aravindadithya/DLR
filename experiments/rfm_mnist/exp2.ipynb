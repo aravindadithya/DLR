{
 "cells": [
  {
   "cell_type": "markdown",
   "id": "132b5a3f-434a-480b-b700-57080e223ebe",
   "metadata": {},
   "source": [
    "# Objective"
   ]
  },
  {
   "cell_type": "markdown",
   "id": "860fdfce-6606-49d9-8a09-30882b61807b",
   "metadata": {},
   "source": [
    "This experiment checks the following for a simple convnet on MNIST.\n",
    "1. Verify Agop and NFM relations for the conv layers\n",
    "2. Run RFM to construct similar matrices as the above.(TBD)\n",
    "\n",
    "The model is taken from MNIST/model2"
   ]
  },
  {
   "cell_type": "markdown",
   "id": "20927ac7-5a3a-47f7-b1c3-4ab1da39990d",
   "metadata": {},
   "source": [
    "# Setup"
   ]
  },
  {
   "cell_type": "code",
   "execution_count": 1,
   "id": "7b908e4f-a112-4597-85f8-3bd750a99aa8",
   "metadata": {},
   "outputs": [],
   "source": [
    "import sys\n",
    "parent_dir='C:\\\\Users\\\\garav\\\\AGOP\\\\DLR'\n",
    "model_dir= 'C:\\\\Users\\\\garav\\\\AGOP\\\\DLR\\\\trained_models\\\\MNIST\\\\model2\\\\nn_models\\\\'\n",
    "#parent_dir = os.path.abspath(os.path.join(os.getcwd(), os.pardir))\n",
    "sys.path.append(parent_dir)"
   ]
  },
  {
   "cell_type": "code",
   "execution_count": 3,
   "id": "e2a63f9a-f5d9-452f-a906-f07545fd3d1a",
   "metadata": {},
   "outputs": [
    {
     "name": "stderr",
     "output_type": "stream",
     "text": [
      "Setting up a new session...\n",
      "Without the incoming socket you cannot receive events from the server or register event handlers to your Visdom client.\n"
     ]
    }
   ],
   "source": [
    "import torch\n",
    "import torchvision\n",
    "import torchvision.transforms as transforms\n",
    "from utils import agop_conv as agc\n",
    "from torch.utils.data import Dataset\n",
    "import random\n",
    "import torch.backends.cudnn as cudnn\n",
    "import rfm\n",
    "import numpy as np\n",
    "from trained_models.MNIST.model2 import trainer as t\n",
    "import numpy as np\n",
    "from sklearn.model_selection import train_test_split\n",
    "from torch.linalg import norm\n",
    "from torchvision import models\n",
    "import torch.optim as optim\n",
    "import torch.nn.functional as F\n",
    "import torch.nn as nn\n",
    "from copy import deepcopy"
   ]
  },
  {
   "cell_type": "code",
   "execution_count": 5,
   "id": "c8f9d450-8db0-4963-9a9e-dfaff72b63f6",
   "metadata": {},
   "outputs": [
    {
     "name": "stdout",
     "output_type": "stream",
     "text": [
      "Using device: cuda:0\n"
     ]
    }
   ],
   "source": [
    "device = torch.device('cuda:0' if torch.cuda.is_available() else 'cpu')\n",
    "#device='cpu'\n",
    "print(f\"Using device: {device}\")"
   ]
  },
  {
   "cell_type": "code",
   "execution_count": 7,
   "id": "ed7a279d-7a07-49a0-85e6-615dfa1faf14",
   "metadata": {},
   "outputs": [],
   "source": [
    "torch.cuda.empty_cache()"
   ]
  },
  {
   "cell_type": "code",
   "execution_count": 214,
   "id": "2ee3a4f9-1285-4aad-bfcc-55fd6623a60d",
   "metadata": {},
   "outputs": [
    {
     "name": "stdout",
     "output_type": "stream",
     "text": [
      "Model weights loaded successfully.\n"
     ]
    }
   ],
   "source": [
    "trainloader, valloader, testloader = t.get_loaders()\n",
    "net= t.get_untrained_net()\n",
    "init_net= deepcopy(net)\n",
    "import os\n",
    "if os.path.exists(model_dir+'mnist_conv_trained_nn.pth'):\n",
    "    checkpoint = torch.load(model_dir+'mnist_conv_trained_nn.pth', map_location=torch.device(device))\n",
    "    net.load_state_dict(checkpoint['state_dict'])  # Access the 'state_dict' within the loaded dictionary\n",
    "    print(\"Model weights loaded successfully.\")\n",
    "else:\n",
    "    print(\"Train the network first\")"
   ]
  },
  {
   "cell_type": "markdown",
   "id": "39a974e0-9a54-4d0f-aafc-d04211dfdb7d",
   "metadata": {},
   "source": [
    "# Verify NFA for conv layers:"
   ]
  },
  {
   "cell_type": "code",
   "execution_count": 528,
   "id": "02c8f4db-df8e-4504-8a06-29da71044e4c",
   "metadata": {},
   "outputs": [
    {
     "name": "stdout",
     "output_type": "stream",
     "text": [
      "Correlation between Initial and Trained CNFM:  tensor(0.1139, device='cuda:0', grad_fn=<DivBackward0>)\n",
      "Computing GOP for sample 0 out of 10\n",
      "Computing GOP for sample 1 out of 10\n",
      "Computing GOP for sample 2 out of 10\n",
      "Computing GOP for sample 3 out of 10\n",
      "Computing GOP for sample 4 out of 10\n",
      "Computing GOP for sample 5 out of 10\n",
      "Computing GOP for sample 6 out of 10\n",
      "Computing GOP for sample 7 out of 10\n",
      "Computing GOP for sample 8 out of 10\n",
      "Computing GOP for sample 9 out of 10\n",
      "Computing GOP for sample 10 out of 10\n",
      "Shpae after gradients:  torch.Size([288, 288])\n",
      "Correlation between Trained CNFM and AGOP:  tensor(0.9106, device='cuda:0')\n",
      "Final:  tensor(0.1139, device='cuda:0', grad_fn=<DivBackward0>) tensor(0.9106, device='cuda:0')\n"
     ]
    }
   ],
   "source": [
    "# Here layer_idx refers to layer_idx+1 th conv layer. \n",
    "G = agc.verify_NFA(net.to(device), init_net.to(device), trainloader, layer_idx=1)"
   ]
  },
  {
   "cell_type": "code",
   "execution_count": 21,
   "id": "90b316c9-db51-49a5-8cf8-22d964ff5a69",
   "metadata": {},
   "outputs": [
    {
     "name": "stdout",
     "output_type": "stream",
     "text": [
      "torch.Size([64, 32, 3, 3])\n",
      "Conv2d(1, 32, kernel_size=(3, 3), stride=(1, 1), padding=(1, 1)) 0\n",
      "Conv2d(32, 64, kernel_size=(3, 3), stride=(1, 1), padding=(1, 1)) 1\n",
      "torch.Size([64, 14, 14, 32, 3, 3])\n",
      "torch.Size([64, 32, 3, 3])\n",
      "Conv2d(1, 32, kernel_size=(3, 3), stride=(1, 1), padding=(1, 1)) 0\n",
      "Conv2d(32, 64, kernel_size=(3, 3), stride=(1, 1), padding=(1, 1)) 1\n",
      "torch.Size([64, 14, 14, 32, 3, 3])\n"
     ]
    }
   ],
   "source": [
    "agc.vis_transform_image(net, imgs[0], None, layer_idx=1)\n",
    "agc.vis_transform_image(net, imgs[0], G, layer_idx=1)"
   ]
  },
  {
   "cell_type": "code",
   "execution_count": null,
   "id": "59f5ddbe-f707-4962-84f6-d62b96e6add4",
   "metadata": {},
   "outputs": [],
   "source": []
  },
  {
   "cell_type": "code",
   "execution_count": null,
   "id": "5af6e3d1-35ea-4323-bfb5-690d851dc8e0",
   "metadata": {},
   "outputs": [],
   "source": []
  }
 ],
 "metadata": {
  "kernelspec": {
   "display_name": "Python [conda env:base] *",
   "language": "python",
   "name": "conda-base-py"
  },
  "language_info": {
   "codemirror_mode": {
    "name": "ipython",
    "version": 3
   },
   "file_extension": ".py",
   "mimetype": "text/x-python",
   "name": "python",
   "nbconvert_exporter": "python",
   "pygments_lexer": "ipython3",
   "version": "3.12.7"
  }
 },
 "nbformat": 4,
 "nbformat_minor": 5
}
