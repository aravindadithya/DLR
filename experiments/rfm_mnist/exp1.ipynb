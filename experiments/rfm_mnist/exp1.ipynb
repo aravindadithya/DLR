{
 "cells": [
  {
   "cell_type": "code",
   "execution_count": 45,
   "id": "b1588384-18ad-4c06-83e7-cb2d7ed5a692",
   "metadata": {},
   "outputs": [],
   "source": [
    "import sys\n",
    "parent_dir='C:\\\\Users\\\\garav\\\\AGOP\\\\DLR'\n",
    "#parent_dir = os.path.abspath(os.path.join(os.getcwd(), os.pardir))\n",
    "sys.path.append(parent_dir)"
   ]
  },
  {
   "cell_type": "code",
   "execution_count": 54,
   "id": "75d858f4-2bd3-43a4-8f4b-88b1978ff657",
   "metadata": {},
   "outputs": [],
   "source": [
    "import torch\n",
    "import torchvision\n",
    "import torchvision.transforms as transforms\n",
    "from utils import trainer as t\n",
    "from utils import agop_conv as agc\n",
    "from torch.utils.data import Dataset\n",
    "import random\n",
    "import torch.backends.cudnn as cudnn\n",
    "import rfm\n",
    "import numpy as np\n",
    "import visdom\n",
    "import model1\n",
    "import numpy as np\n",
    "from sklearn.model_selection import train_test_split\n",
    "from torch.linalg import norm\n",
    "from torchvision import models\n"
   ]
  },
  {
   "cell_type": "code",
   "execution_count": 56,
   "id": "59d028bc-ee51-4fda-9f6b-206b84a1abd8",
   "metadata": {},
   "outputs": [
    {
     "name": "stdout",
     "output_type": "stream",
     "text": [
      "Using device: cuda:0\n"
     ]
    }
   ],
   "source": [
    "device = torch.device('cuda:0' if torch.cuda.is_available() else 'cpu')\n",
    "#device='cpu'\n",
    "print(f\"Using device: {device}\")"
   ]
  },
  {
   "cell_type": "code",
   "execution_count": 7,
   "id": "5ac3bb17-df96-4419-884c-4d94e643f13e",
   "metadata": {},
   "outputs": [
    {
     "data": {
      "text/plain": [
       "'C:\\\\Users\\\\garav\\\\AGOP\\\\rfm_mnist'"
      ]
     },
     "execution_count": 7,
     "metadata": {},
     "output_type": "execute_result"
    }
   ],
   "source": [
    "pwd"
   ]
  },
  {
   "cell_type": "code",
   "execution_count": 58,
   "id": "c8a34574-02da-41c8-a643-f23e872e89b8",
   "metadata": {},
   "outputs": [],
   "source": [
    "def one_hot_data(dataset, num_samples=-1):\n",
    "    labelset = {}\n",
    "    for i in range(10):\n",
    "        one_hot = torch.zeros(10)\n",
    "        one_hot[i] = 1\n",
    "        labelset[i] = one_hot\n",
    "\n",
    "    subset = [(ex.flatten(), labelset[label]) for \\\n",
    "              idx, (ex, label) in enumerate(dataset) if idx < num_samples]\n",
    "    return subset\n",
    "\n",
    "\n",
    "def group_by_class(dataset):\n",
    "    labelset = {}\n",
    "    for i in range(10):\n",
    "        labelset[i] = []\n",
    "    for i, batch in enumerate(dataset):\n",
    "        img, label = batch\n",
    "        labelset[label].append(img.view(1, 3, 32, 32))\n",
    "    return labelset\n",
    "\n",
    "\n",
    "def split(trainset, p=.8):\n",
    "    train, val = train_test_split(trainset, train_size=p)\n",
    "    return train, val\n",
    "\n",
    "def merge_data(mnist, n):\n",
    "    #cifar_by_label = group_by_class(cifar)\n",
    "\n",
    "    mnist_by_label = group_by_class(mnist)\n",
    "\n",
    "    data = []\n",
    "    labels = []\n",
    "\n",
    "    labelset = {}\n",
    "\n",
    "    for i in range(10):\n",
    "        one_hot = torch.zeros(1, 10)\n",
    "        one_hot[0, i] = 1\n",
    "        labelset[i] = one_hot\n",
    "\n",
    "    for l in mnist_by_label:\n",
    "\n",
    "        #cifar_data = torch.cat(cifar_by_label[l])\n",
    "        mnist_data = torch.cat(mnist_by_label[l])\n",
    "        min_len = len(mnist_data)\n",
    "        m = min(n, min_len)\n",
    "        #cifar_data = cifar_data[:m]\n",
    "        mnist_data = mnist_data[:m]\n",
    "\n",
    "        merged = torch.cat([mnist_data], axis=-1)\n",
    "        #for i in range(3):\n",
    "           # vis.image(merged[i])\n",
    "        data.append(merged.reshape(m, -1))\n",
    "        print(merged.shape)\n",
    "        labels.append(np.repeat(labelset[l], m, axis=0))\n",
    "    data = torch.cat(data, axis=0)\n",
    "\n",
    "    labels = np.concatenate(labels, axis=0)\n",
    "    merged_labels = torch.from_numpy(labels)\n",
    "\n",
    "    return list(zip(data, labels))\n",
    "\n"
   ]
  },
  {
   "cell_type": "code",
   "execution_count": 60,
   "id": "851228a2-b59b-41ff-bb5a-fc1af2c3f10c",
   "metadata": {},
   "outputs": [],
   "source": [
    "torch.cuda.empty_cache()"
   ]
  },
  {
   "cell_type": "code",
   "execution_count": null,
   "id": "f5d89618-c570-4f80-aa38-3b468e076440",
   "metadata": {},
   "outputs": [],
   "source": [
    "\n",
    "SEED = 5700\n",
    "torch.manual_seed(SEED)\n",
    "random.seed(SEED)\n",
    "np.random.seed(SEED)\n",
    "torch.cuda.manual_seed(SEED)\n",
    "#cudnn.benchmark = False\n",
    "\n",
    "transform = transforms.Compose(\n",
    "        [transforms.ToTensor()\n",
    "        ])\n",
    "\n",
    "def repeat_channel(x):\n",
    "    return x.repeat(3, 1, 1)\n",
    "\n",
    "mnist_transform = transforms.Compose(\n",
    "    [transforms.Resize([32, 32]),\n",
    "     transforms.ToTensor(),\n",
    "     transforms.Lambda(repeat_channel)]\n",
    ")\n",
    "\n",
    "path= './data'  \n",
    "    \n",
    "mnist_trainset = torchvision.datasets.MNIST(root=path,\n",
    "                                                train=True,\n",
    "                                                transform=mnist_transform,\n",
    "                                                download=True)\n",
    "\n",
    "#trainset = group_by_class(mnist_trainset)\n",
    "trainset = merge_data(mnist_trainset, 5000)\n",
    "trainset, valset = split(trainset, p=.8)\n",
    "print(\"Train Size: \", len(trainset), \"Val Size: \", len(valset))\n",
    "\n",
    "trainloader = torch.utils.data.DataLoader(trainset, batch_size=100,\n",
    "                                              shuffle=True, num_workers=2)\n",
    "valloader = torch.utils.data.DataLoader(valset, batch_size=100,\n",
    "                                            shuffle=False, num_workers=1)\n",
    "\n",
    "\n",
    "mnist_testset = torchvision.datasets.MNIST(root=path,\n",
    "                                               train=False,\n",
    "                                               transform=mnist_transform,\n",
    "                                               download=True)\n",
    "\n",
    "print(\"Test Size: \", len(mnist_testset))\n",
    "testset = merge_data(mnist_testset, 900)\n",
    "testloader = torch.utils.data.DataLoader(testset, batch_size=128,\n",
    "                                             shuffle=False, num_workers=2)\n",
    "\n",
    "name = 'mnist'\n"
   ]
  },
  {
   "cell_type": "code",
   "execution_count": 27,
   "id": "dbbaa2e5-f13d-4147-b450-a54773243222",
   "metadata": {},
   "outputs": [
    {
     "name": "stdout",
     "output_type": "stream",
     "text": [
      "3072\n"
     ]
    }
   ],
   "source": [
    "for idx, batch in enumerate(trainloader):\n",
    "        inputs, labels = batch\n",
    "        _, dim = inputs.shape\n",
    "        break\n",
    "print(dim)"
   ]
  },
  {
   "cell_type": "code",
   "execution_count": 33,
   "id": "33ed0b5d-83af-40b0-870a-286a22512905",
   "metadata": {},
   "outputs": [],
   "source": [
    "net = model1.Net(3072, num_classes=10)"
   ]
  },
  {
   "cell_type": "code",
   "execution_count": null,
   "id": "9297bf74-13ae-452d-80fd-086724102a0c",
   "metadata": {
    "scrolled": true
   },
   "outputs": [],
   "source": [
    "#criterion = nn.CrossEntropyLoss()\n",
    "#optimizer = optim.Adam(model.parameters(), lr=0.001)\n",
    "#initialize_weights(model)\n",
    "import os\n",
    "if os.path.exists('nn_models/mnist_trained_nn.pth'):\n",
    "    checkpoint = torch.load('nn_models/mnist_trained_nn.pth', map_location=torch.device(device))\n",
    "    net.load_state_dict(checkpoint['state_dict'])  # Access the 'state_dict' within the loaded dictionary\n",
    "    print(\"Model weights loaded successfully.\")\n",
    "\n",
    "t.train_network(trainloader, valloader, testloader,\n",
    "                num_classes=10, optimizer= torch.optim.SGD(net.parameters(), lr=.1)\n",
    "                name=name, net=net)"
   ]
  },
  {
   "cell_type": "code",
   "execution_count": null,
   "id": "e3fdd49e-4722-4f2d-887e-df6ad9b1c902",
   "metadata": {},
   "outputs": [],
   "source": [
    "'''Warning: This is an extremely cpu intensive process since it uses solve function from linalg \n",
    "The rfm.py from utils is equipped with more memory efficient solvers. \n",
    "'''\n",
    "\n",
    "rfm.rfm(trainloader, valloader, testloader, name=name,\n",
    "            batch_size=10, iters=1, reg=1e-3)"
   ]
  }
 ],
 "metadata": {
  "kernelspec": {
   "display_name": "Python [conda env:base] *",
   "language": "python",
   "name": "conda-base-py"
  },
  "language_info": {
   "codemirror_mode": {
    "name": "ipython",
    "version": 3
   },
   "file_extension": ".py",
   "mimetype": "text/x-python",
   "name": "python",
   "nbconvert_exporter": "python",
   "pygments_lexer": "ipython3",
   "version": "3.12.7"
  }
 },
 "nbformat": 4,
 "nbformat_minor": 5
}
