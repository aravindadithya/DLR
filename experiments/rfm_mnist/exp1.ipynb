{
 "cells": [
  {
   "cell_type": "code",
   "execution_count": 1,
   "id": "b1588384-18ad-4c06-83e7-cb2d7ed5a692",
   "metadata": {},
   "outputs": [],
   "source": [
    "import sys\n",
    "parent_dir='C:\\\\Users\\\\garav\\\\AGOP\\\\DLR'\n",
    "#parent_dir = os.path.abspath(os.path.join(os.getcwd(), os.pardir))\n",
    "sys.path.append(parent_dir)"
   ]
  },
  {
   "cell_type": "code",
   "execution_count": 3,
   "id": "75d858f4-2bd3-43a4-8f4b-88b1978ff657",
   "metadata": {},
   "outputs": [],
   "source": [
    "import torch\n",
    "import torchvision\n",
    "import torchvision.transforms as transforms\n",
    "from utils import trainer as t\n",
    "from torch.utils.data import Dataset\n",
    "import random\n",
    "import torch.backends.cudnn as cudnn\n",
    "import rfm\n",
    "import numpy as np\n",
    "import visdom\n",
    "import model1\n",
    "import numpy as np\n",
    "from sklearn.model_selection import train_test_split\n",
    "from torch.linalg import norm\n"
   ]
  },
  {
   "cell_type": "code",
   "execution_count": 5,
   "id": "59d028bc-ee51-4fda-9f6b-206b84a1abd8",
   "metadata": {},
   "outputs": [
    {
     "name": "stdout",
     "output_type": "stream",
     "text": [
      "Using device: cuda:0\n"
     ]
    }
   ],
   "source": [
    "device = torch.device('cuda:0' if torch.cuda.is_available() else 'cpu')\n",
    "print(f\"Using device: {device}\")"
   ]
  },
  {
   "cell_type": "code",
   "execution_count": 10,
   "id": "5ac3bb17-df96-4419-884c-4d94e643f13e",
   "metadata": {},
   "outputs": [
    {
     "data": {
      "text/plain": [
       "'C:\\\\Users\\\\garav\\\\AGOP\\\\DLR\\\\experiments\\\\rfm_mnist'"
      ]
     },
     "execution_count": 10,
     "metadata": {},
     "output_type": "execute_result"
    }
   ],
   "source": [
    "pwd"
   ]
  },
  {
   "cell_type": "code",
   "execution_count": 7,
   "id": "c8a34574-02da-41c8-a643-f23e872e89b8",
   "metadata": {},
   "outputs": [],
   "source": [
    "def one_hot_data(dataset, num_samples=-1):\n",
    "    labelset = {}\n",
    "    for i in range(10):\n",
    "        one_hot = torch.zeros(10)\n",
    "        one_hot[i] = 1\n",
    "        labelset[i] = one_hot\n",
    "\n",
    "    subset = [(ex.flatten(), labelset[label]) for \\\n",
    "              idx, (ex, label) in enumerate(dataset) if idx < num_samples]\n",
    "    return subset\n",
    "\n",
    "\n",
    "def group_by_class(dataset):\n",
    "    labelset = {}\n",
    "    for i in range(10):\n",
    "        labelset[i] = []\n",
    "    for i, batch in enumerate(dataset):\n",
    "        img, label = batch\n",
    "        labelset[label].append(img.view(1, 3, 32, 32))\n",
    "    return labelset\n",
    "\n",
    "\n",
    "def split(trainset, p=.8):\n",
    "    train, val = train_test_split(trainset, train_size=p)\n",
    "    return train, val\n"
   ]
  },
  {
   "cell_type": "code",
   "execution_count": 11,
   "id": "851228a2-b59b-41ff-bb5a-fc1af2c3f10c",
   "metadata": {},
   "outputs": [],
   "source": [
    "torch.cuda.empty_cache()"
   ]
  },
  {
   "cell_type": "code",
   "execution_count": null,
   "id": "f5d89618-c570-4f80-aa38-3b468e076440",
   "metadata": {},
   "outputs": [],
   "source": [
    "\n",
    "SEED = 5636\n",
    "torch.manual_seed(SEED)\n",
    "random.seed(SEED)\n",
    "np.random.seed(SEED)\n",
    "#torch.cuda.manual_seed(SEED)\n",
    "cudnn.benchmark = False\n",
    "\n",
    "transform = transforms.Compose(\n",
    "        [transforms.ToTensor()\n",
    "        ])\n",
    "\n",
    "mnist_transform = transforms.Compose(\n",
    "        [transforms.Resize([32,32]),\n",
    "         transforms.ToTensor(),\n",
    "         transforms.Lambda(lambda x: x.repeat(3, 1, 1))\n",
    "        ])\n",
    "\n",
    "\n",
    "path = '~/data/'\n",
    "    \n",
    "mnist_trainset = torchvision.datasets.MNIST(root=path,\n",
    "                                                train=True,\n",
    "                                                transform=mnist_transform,\n",
    "                                                download=True)\n",
    "\n",
    "trainset, valset = split(mnist_trainset, p=.8)\n",
    "print(\"Train Size: \", len(trainset), \"Val Size: \", len(valset))\n",
    "\n",
    "trainloader = torch.utils.data.DataLoader(trainset, batch_size=100,\n",
    "                                              shuffle=True, num_workers=2)\n",
    "valloader = torch.utils.data.DataLoader(valset, batch_size=100,\n",
    "                                            shuffle=False, num_workers=1)\n",
    "\n",
    "\n",
    "mnist_testset = torchvision.datasets.MNIST(root=path,\n",
    "                                               train=False,\n",
    "                                               transform=mnist_transform,\n",
    "                                               download=True)\n",
    "\n",
    "print(\"Test Size: \", len(mnist_testset))\n",
    "\n",
    "testloader = torch.utils.data.DataLoader(mnist_testset, batch_size=128,\n",
    "                                             shuffle=False, num_workers=2)\n",
    "\n",
    "name = 'mnist'\n"
   ]
  },
  {
   "cell_type": "code",
   "execution_count": 17,
   "id": "dbbaa2e5-f13d-4147-b450-a54773243222",
   "metadata": {},
   "outputs": [
    {
     "ename": "AttributeError",
     "evalue": "'tuple' object has no attribute 'shape'",
     "output_type": "error",
     "traceback": [
      "\u001b[1;31m---------------------------------------------------------------------------\u001b[0m",
      "\u001b[1;31mAttributeError\u001b[0m                            Traceback (most recent call last)",
      "Cell \u001b[1;32mIn[17], line 1\u001b[0m\n\u001b[1;32m----> 1\u001b[0m \u001b[38;5;28mprint\u001b[39m(mnist_testset[\u001b[38;5;241m0\u001b[39m]\u001b[38;5;241m.\u001b[39mshape)\n",
      "\u001b[1;31mAttributeError\u001b[0m: 'tuple' object has no attribute 'shape'"
     ]
    }
   ],
   "source": [
    "print(mnist_testset[0].shape)"
   ]
  },
  {
   "cell_type": "code",
   "execution_count": 19,
   "id": "33ed0b5d-83af-40b0-870a-286a22512905",
   "metadata": {},
   "outputs": [],
   "source": [
    "net = model1.Net(32, num_classes=10)"
   ]
  },
  {
   "cell_type": "code",
   "execution_count": 14,
   "id": "65eb5804-ad5c-426c-bf97-9d9114d32f80",
   "metadata": {},
   "outputs": [
    {
     "ename": "NameError",
     "evalue": "name 'trainloader' is not defined",
     "output_type": "error",
     "traceback": [
      "\u001b[1;31m---------------------------------------------------------------------------\u001b[0m",
      "\u001b[1;31mNameError\u001b[0m                                 Traceback (most recent call last)",
      "Cell \u001b[1;32mIn[14], line 1\u001b[0m\n\u001b[1;32m----> 1\u001b[0m t\u001b[38;5;241m.\u001b[39mtrain_network(trainloader, valloader, testloader,\n\u001b[0;32m      2\u001b[0m                     num_classes\u001b[38;5;241m=\u001b[39m\u001b[38;5;241m10\u001b[39m,\n\u001b[0;32m      3\u001b[0m                     name\u001b[38;5;241m=\u001b[39mname,model\u001b[38;5;241m=\u001b[39mnet)\n",
      "\u001b[1;31mNameError\u001b[0m: name 'trainloader' is not defined"
     ]
    }
   ],
   "source": [
    "t.train_network(trainloader, valloader, testloader,\n",
    "                    num_classes=10,\n",
    "                    name=name,model=net)"
   ]
  },
  {
   "cell_type": "code",
   "execution_count": null,
   "id": "e3fdd49e-4722-4f2d-887e-df6ad9b1c902",
   "metadata": {},
   "outputs": [],
   "source": []
  }
 ],
 "metadata": {
  "kernelspec": {
   "display_name": "Python [conda env:base] *",
   "language": "python",
   "name": "conda-base-py"
  },
  "language_info": {
   "codemirror_mode": {
    "name": "ipython",
    "version": 3
   },
   "file_extension": ".py",
   "mimetype": "text/x-python",
   "name": "python",
   "nbconvert_exporter": "python",
   "pygments_lexer": "ipython3",
   "version": "3.12.7"
  }
 },
 "nbformat": 4,
 "nbformat_minor": 5
}
