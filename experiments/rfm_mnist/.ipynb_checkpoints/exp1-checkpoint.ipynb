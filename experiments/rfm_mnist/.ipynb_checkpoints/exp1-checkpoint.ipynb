{
 "cells": [
  {
   "cell_type": "code",
   "execution_count": 2,
   "id": "b1588384-18ad-4c06-83e7-cb2d7ed5a692",
   "metadata": {},
   "outputs": [],
   "source": [
    "import sys\n",
    "parent_dir='C:\\\\Users\\\\garav\\\\AGOP\\\\DLR'\n",
    "#parent_dir = os.path.abspath(os.path.join(os.getcwd(), os.pardir))\n",
    "sys.path.append(parent_dir)"
   ]
  },
  {
   "cell_type": "code",
   "execution_count": 4,
   "id": "75d858f4-2bd3-43a4-8f4b-88b1978ff657",
   "metadata": {},
   "outputs": [],
   "source": [
    "import torch\n",
    "import torchvision\n",
    "import torchvision.transforms as transforms\n",
    "from utils import trainer as t\n",
    "from torch.utils.data import Dataset\n",
    "import random\n",
    "import torch.backends.cudnn as cudnn\n",
    "import rfm\n",
    "import numpy as np\n",
    "import visdom\n",
    "import model1\n",
    "import numpy as np\n",
    "from sklearn.model_selection import train_test_split\n",
    "from torch.linalg import norm\n"
   ]
  },
  {
   "cell_type": "code",
   "execution_count": 6,
   "id": "59d028bc-ee51-4fda-9f6b-206b84a1abd8",
   "metadata": {},
   "outputs": [
    {
     "name": "stdout",
     "output_type": "stream",
     "text": [
      "Using device: cuda:0\n"
     ]
    }
   ],
   "source": [
    "device = torch.device('cuda:0' if torch.cuda.is_available() else 'cpu')\n",
    "#device='cpu'\n",
    "print(f\"Using device: {device}\")"
   ]
  },
  {
   "cell_type": "code",
   "execution_count": 7,
   "id": "5ac3bb17-df96-4419-884c-4d94e643f13e",
   "metadata": {},
   "outputs": [
    {
     "data": {
      "text/plain": [
       "'C:\\\\Users\\\\garav\\\\AGOP\\\\DLR\\\\experiments\\\\rfm_mnist'"
      ]
     },
     "execution_count": 7,
     "metadata": {},
     "output_type": "execute_result"
    }
   ],
   "source": [
    "pwd"
   ]
  },
  {
   "cell_type": "code",
   "execution_count": 63,
   "id": "c8a34574-02da-41c8-a643-f23e872e89b8",
   "metadata": {},
   "outputs": [],
   "source": [
    "def one_hot_data(dataset, num_samples=-1):\n",
    "    labelset = {}\n",
    "    for i in range(10):\n",
    "        one_hot = torch.zeros(10)\n",
    "        one_hot[i] = 1\n",
    "        labelset[i] = one_hot\n",
    "\n",
    "    subset = [(ex.flatten(), labelset[label]) for \\\n",
    "              idx, (ex, label) in enumerate(dataset) if idx < num_samples]\n",
    "    return subset\n",
    "\n",
    "\n",
    "def group_by_class(dataset):\n",
    "    labelset = {}\n",
    "    for i in range(10):\n",
    "        labelset[i] = []\n",
    "    for i, batch in enumerate(dataset):\n",
    "        img, label = batch\n",
    "        labelset[label].append(img.view(1, 3, 32, 32))\n",
    "    return labelset\n",
    "\n",
    "\n",
    "def split(trainset, p=.8):\n",
    "    train, val = train_test_split(trainset, train_size=p)\n",
    "    return train, val\n",
    "\n",
    "def merge_data(mnist, n):\n",
    "    #cifar_by_label = group_by_class(cifar)\n",
    "\n",
    "    mnist_by_label = group_by_class(mnist)\n",
    "\n",
    "    data = []\n",
    "    labels = []\n",
    "\n",
    "    labelset = {}\n",
    "\n",
    "    for i in range(10):\n",
    "        one_hot = torch.zeros(1, 10)\n",
    "        one_hot[0, i] = 1\n",
    "        labelset[i] = one_hot\n",
    "\n",
    "    for l in mnist_by_label:\n",
    "\n",
    "        #cifar_data = torch.cat(cifar_by_label[l])\n",
    "        mnist_data = torch.cat(mnist_by_label[l])\n",
    "        min_len = len(mnist_data)\n",
    "        m = min(n, min_len)\n",
    "        #cifar_data = cifar_data[:m]\n",
    "        mnist_data = mnist_data[:m]\n",
    "\n",
    "        merged = torch.cat([mnist_data], axis=-1)\n",
    "        #for i in range(3):\n",
    "           # vis.image(merged[i])\n",
    "        data.append(merged.reshape(m, -1))\n",
    "        print(merged.shape)\n",
    "        labels.append(np.repeat(labelset[l], m, axis=0))\n",
    "    data = torch.cat(data, axis=0)\n",
    "\n",
    "    labels = np.concatenate(labels, axis=0)\n",
    "    merged_labels = torch.from_numpy(labels)\n",
    "\n",
    "    return list(zip(data, labels))\n",
    "\n"
   ]
  },
  {
   "cell_type": "code",
   "execution_count": 65,
   "id": "851228a2-b59b-41ff-bb5a-fc1af2c3f10c",
   "metadata": {},
   "outputs": [],
   "source": [
    "torch.cuda.empty_cache()"
   ]
  },
  {
   "cell_type": "code",
   "execution_count": 67,
   "id": "f5d89618-c570-4f80-aa38-3b468e076440",
   "metadata": {},
   "outputs": [
    {
     "name": "stdout",
     "output_type": "stream",
     "text": [
      "torch.Size([5000, 3, 32, 32])\n",
      "torch.Size([5000, 3, 32, 32])\n",
      "torch.Size([5000, 3, 32, 32])\n",
      "torch.Size([5000, 3, 32, 32])\n",
      "torch.Size([5000, 3, 32, 32])\n",
      "torch.Size([5000, 3, 32, 32])\n",
      "torch.Size([5000, 3, 32, 32])\n",
      "torch.Size([5000, 3, 32, 32])\n",
      "torch.Size([5000, 3, 32, 32])\n",
      "torch.Size([5000, 3, 32, 32])\n",
      "Train Size:  40000 Val Size:  10000\n",
      "Test Size:  10000\n",
      "torch.Size([980, 3, 32, 32])\n",
      "torch.Size([1000, 3, 32, 32])\n",
      "torch.Size([1000, 3, 32, 32])\n",
      "torch.Size([1000, 3, 32, 32])\n",
      "torch.Size([982, 3, 32, 32])\n",
      "torch.Size([892, 3, 32, 32])\n",
      "torch.Size([958, 3, 32, 32])\n",
      "torch.Size([1000, 3, 32, 32])\n",
      "torch.Size([974, 3, 32, 32])\n",
      "torch.Size([1000, 3, 32, 32])\n"
     ]
    }
   ],
   "source": [
    "\n",
    "SEED = 5636\n",
    "torch.manual_seed(SEED)\n",
    "random.seed(SEED)\n",
    "np.random.seed(SEED)\n",
    "torch.cuda.manual_seed(SEED)\n",
    "cudnn.benchmark = False\n",
    "\n",
    "transform = transforms.Compose(\n",
    "        [transforms.ToTensor()\n",
    "        ])\n",
    "\n",
    "mnist_transform = transforms.Compose(\n",
    "        [transforms.Resize([32,32]),\n",
    "         transforms.ToTensor(),\n",
    "         transforms.Lambda(lambda x: x.repeat(3, 1, 1))\n",
    "        ])\n",
    "\n",
    "\n",
    "path= './data'  \n",
    "    \n",
    "mnist_trainset = torchvision.datasets.MNIST(root=path,\n",
    "                                                train=True,\n",
    "                                                transform=mnist_transform,\n",
    "                                                download=True)\n",
    "\n",
    "#trainset = group_by_class(mnist_trainset)\n",
    "trainset = merge_data(mnist_trainset, 5000)\n",
    "trainset, valset = split(trainset, p=.8)\n",
    "print(\"Train Size: \", len(trainset), \"Val Size: \", len(valset))\n",
    "\n",
    "trainloader = torch.utils.data.DataLoader(trainset, batch_size=100,\n",
    "                                              shuffle=True, num_workers=2)\n",
    "valloader = torch.utils.data.DataLoader(valset, batch_size=100,\n",
    "                                            shuffle=False, num_workers=1)\n",
    "\n",
    "\n",
    "mnist_testset = torchvision.datasets.MNIST(root=path,\n",
    "                                               train=False,\n",
    "                                               transform=mnist_transform,\n",
    "                                               download=True)\n",
    "\n",
    "print(\"Test Size: \", len(mnist_testset))\n",
    "testset = merge_data(mnist_testset, 1000)\n",
    "testloader = torch.utils.data.DataLoader(mnist_testset, batch_size=128,\n",
    "                                             shuffle=False, num_workers=2)\n",
    "\n",
    "name = 'mnist'\n"
   ]
  },
  {
   "cell_type": "code",
   "execution_count": 69,
   "id": "dbbaa2e5-f13d-4147-b450-a54773243222",
   "metadata": {},
   "outputs": [
    {
     "name": "stdout",
     "output_type": "stream",
     "text": [
      "3072\n"
     ]
    }
   ],
   "source": [
    "for idx, batch in enumerate(trainloader):\n",
    "        inputs, labels = batch\n",
    "        _, dim = inputs.shape\n",
    "        break\n",
    "print(dim)"
   ]
  },
  {
   "cell_type": "code",
   "execution_count": 71,
   "id": "33ed0b5d-83af-40b0-870a-286a22512905",
   "metadata": {},
   "outputs": [],
   "source": [
    "net = model1.Net(3072, num_classes=10)"
   ]
  },
  {
   "cell_type": "code",
   "execution_count": 75,
   "id": "65eb5804-ad5c-426c-bf97-9d9114d32f80",
   "metadata": {},
   "outputs": [
    {
     "ename": "KeyboardInterrupt",
     "evalue": "",
     "output_type": "error",
     "traceback": [
      "\u001b[1;31m---------------------------------------------------------------------------\u001b[0m",
      "\u001b[1;31mKeyboardInterrupt\u001b[0m                         Traceback (most recent call last)",
      "File \u001b[1;32mC:\\ProgramData\\anaconda3\\Lib\\site-packages\\zmq\\backend\\cython\\checkrc.pxd:13\u001b[0m, in \u001b[0;36mzmq.backend.cython.checkrc._check_rc\u001b[1;34m()\u001b[0m\n",
      "\u001b[1;31mKeyboardInterrupt\u001b[0m: "
     ]
    },
    {
     "name": "stderr",
     "output_type": "stream",
     "text": [
      "Exception ignored in: 'zmq.backend.cython.message.Frame.__dealloc__'\n",
      "Traceback (most recent call last):\n",
      "  File \"zmq\\\\backend\\\\cython\\\\checkrc.pxd\", line 13, in zmq.backend.cython.checkrc._check_rc\n",
      "KeyboardInterrupt: \n"
     ]
    },
    {
     "ename": "NameError",
     "evalue": "name 'net' is not defined",
     "output_type": "error",
     "traceback": [
      "\u001b[1;31m---------------------------------------------------------------------------\u001b[0m",
      "\u001b[1;31mNameError\u001b[0m                                 Traceback (most recent call last)",
      "Cell \u001b[1;32mIn[75], line 1\u001b[0m\n\u001b[1;32m----> 1\u001b[0m t\u001b[38;5;241m.\u001b[39mtrain_network(trainloader, valloader, testloader,\n\u001b[0;32m      2\u001b[0m                     num_classes\u001b[38;5;241m=\u001b[39m\u001b[38;5;241m10\u001b[39m,\n\u001b[0;32m      3\u001b[0m                     name\u001b[38;5;241m=\u001b[39mname,model\u001b[38;5;241m=\u001b[39mnet)\n",
      "File \u001b[1;32m~\\AGOP\\DLR\\utils\\trainer.py:43\u001b[0m, in \u001b[0;36mtrain_network\u001b[1;34m(train_loader, val_loader, test_loader, num_classes, name, model, save_frames)\u001b[0m\n\u001b[0;32m     40\u001b[0m \u001b[38;5;66;03m#net = neural_model.Net(dim, num_classes=num_classes)\u001b[39;00m\n\u001b[0;32m     42\u001b[0m params \u001b[38;5;241m=\u001b[39m \u001b[38;5;241m0\u001b[39m\n\u001b[1;32m---> 43\u001b[0m \u001b[38;5;28;01mfor\u001b[39;00m idx, param \u001b[38;5;129;01min\u001b[39;00m \u001b[38;5;28menumerate\u001b[39m(\u001b[38;5;28mlist\u001b[39m(net\u001b[38;5;241m.\u001b[39mparameters())):\n\u001b[0;32m     44\u001b[0m     size \u001b[38;5;241m=\u001b[39m \u001b[38;5;241m1\u001b[39m\n\u001b[0;32m     45\u001b[0m     \u001b[38;5;28;01mfor\u001b[39;00m idx \u001b[38;5;129;01min\u001b[39;00m \u001b[38;5;28mrange\u001b[39m(\u001b[38;5;28mlen\u001b[39m(param\u001b[38;5;241m.\u001b[39msize())):\n",
      "\u001b[1;31mNameError\u001b[0m: name 'net' is not defined"
     ]
    }
   ],
   "source": [
    "t.train_network(trainloader, valloader, testloader,\n",
    "                    num_classes=10,\n",
    "                    name=name,net=net)"
   ]
  },
  {
   "cell_type": "code",
   "execution_count": null,
   "id": "e3fdd49e-4722-4f2d-887e-df6ad9b1c902",
   "metadata": {},
   "outputs": [],
   "source": []
  }
 ],
 "metadata": {
  "kernelspec": {
   "display_name": "Python [conda env:base] *",
   "language": "python",
   "name": "conda-base-py"
  },
  "language_info": {
   "codemirror_mode": {
    "name": "ipython",
    "version": 3
   },
   "file_extension": ".py",
   "mimetype": "text/x-python",
   "name": "python",
   "nbconvert_exporter": "python",
   "pygments_lexer": "ipython3",
   "version": "3.12.7"
  }
 },
 "nbformat": 4,
 "nbformat_minor": 5
}
