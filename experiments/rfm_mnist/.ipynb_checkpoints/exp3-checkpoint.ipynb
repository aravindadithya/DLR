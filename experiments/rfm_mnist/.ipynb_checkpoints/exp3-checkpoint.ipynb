{
 "cells": [
  {
   "cell_type": "code",
   "execution_count": 1,
   "id": "3ae23a4c-e713-4039-9d80-b967a7353fe6",
   "metadata": {},
   "outputs": [],
   "source": [
    "import sys\n",
    "parent_dir='C:\\\\Users\\\\garav\\\\AGOP\\\\DLR'\n",
    "model_dir= 'C:\\\\Users\\\\garav\\\\AGOP\\\\DLR\\\\trained_models\\\\MNIST\\\\model4\\\\nn_models\\\\'\n",
    "#parent_dir = os.path.abspath(os.path.join(os.getcwd(), os.pardir))\n",
    "sys.path.append(parent_dir)"
   ]
  },
  {
   "cell_type": "code",
   "execution_count": 3,
   "id": "b0dbcae2-852a-4c16-a540-9c9c2dd292cc",
   "metadata": {
    "scrolled": true
   },
   "outputs": [
    {
     "name": "stderr",
     "output_type": "stream",
     "text": [
      "Setting up a new session...\n",
      "Without the incoming socket you cannot receive events from the server or register event handlers to your Visdom client.\n"
     ]
    }
   ],
   "source": [
    "import torch\n",
    "import torchvision\n",
    "import torchvision.transforms as transforms\n",
    "from utils import agop_conv as agc\n",
    "from utils import trainer as tr\n",
    "from torch.utils.data import Dataset\n",
    "import random\n",
    "import torch.backends.cudnn as cudnn\n",
    "import rfm\n",
    "import numpy as np\n",
    "from trained_models.MNIST.model4 import trainer as t\n",
    "import numpy as np\n",
    "from sklearn.model_selection import train_test_split\n",
    "from torch.linalg import norm\n",
    "from torchvision import models\n",
    "import torch.optim as optim\n",
    "import torch.nn.functional as F\n",
    "import torch.nn as nn\n",
    "from copy import deepcopy"
   ]
  },
  {
   "cell_type": "code",
   "execution_count": 5,
   "id": "bd80ae41-ffa3-4ae8-87ab-8452edb259d3",
   "metadata": {},
   "outputs": [
    {
     "name": "stdout",
     "output_type": "stream",
     "text": [
      "Using device: cuda:0\n"
     ]
    }
   ],
   "source": [
    "device = torch.device('cuda:0' if torch.cuda.is_available() else 'cpu')\n",
    "#device='cpu'\n",
    "print(f\"Using device: {device}\")\n"
   ]
  },
  {
   "cell_type": "code",
   "execution_count": 7,
   "id": "9c92e10d-06bf-41fb-8580-c35bf7601fcb",
   "metadata": {},
   "outputs": [],
   "source": [
    "torch.cuda.empty_cache()"
   ]
  },
  {
   "cell_type": "code",
   "execution_count": 9,
   "id": "83afe4f3-6178-42d2-a0fe-cef3228c6760",
   "metadata": {},
   "outputs": [
    {
     "name": "stdout",
     "output_type": "stream",
     "text": [
      "Model weights loaded successfully.\n",
      "Model weights loaded successfully.\n",
      "NUMBER OF PARAMS:  101980\n"
     ]
    },
    {
     "name": "stderr",
     "output_type": "stream",
     "text": [
      "C:\\Users\\garav\\AGOP\\DLR\\trained_models\\MNIST\\model4\\model4.py:38: UserWarning: Implicit dimension choice for log_softmax has been deprecated. Change the call to include dim=X as an argument.\n",
      "  return F.log_softmax(x)\n"
     ]
    },
    {
     "name": "stdout",
     "output_type": "stream",
     "text": [
      "Time:  32.60107898712158\n",
      "Epoch:  0 Train Loss:  0.0007708649209356887 Test Loss:  0.03556416837609293 Train Acc:  99.97916666666667 Test Acc:  99.28 Best Val Acc:  99.38333333333334 Best Val Loss:  0.027170574974334727 Best Test Acc:  99.28 Best Test Loss:  0.03556416837609293\n",
      "Time:  22.358646631240845\n",
      "Epoch:  1 Train Loss:  0.0007150701541947816 Test Loss:  0.0390041229398903 Train Acc:  99.97916666666667 Test Acc:  99.2 Best Val Acc:  99.40833333333333 Best Val Loss:  0.027170574974334727 Best Test Acc:  99.2 Best Test Loss:  0.03556416837609293\n",
      "Time:  22.539743423461914\n",
      "Epoch:  2 Train Loss:  0.00018866229330075158 Test Loss:  0.04455601859299696 Train Acc:  99.97708333333334 Test Acc:  99.14 Best Val Acc:  99.40833333333333 Best Val Loss:  0.027170574974334727 Best Test Acc:  99.2 Best Test Loss:  0.03556416837609293\n"
     ]
    },
    {
     "ename": "KeyboardInterrupt",
     "evalue": "",
     "output_type": "error",
     "traceback": [
      "\u001b[1;31m---------------------------------------------------------------------------\u001b[0m",
      "\u001b[1;31mKeyboardInterrupt\u001b[0m                         Traceback (most recent call last)",
      "Cell \u001b[1;32mIn[9], line 11\u001b[0m\n\u001b[0;32m      8\u001b[0m     \u001b[38;5;28mprint\u001b[39m(\u001b[38;5;124m\"\u001b[39m\u001b[38;5;124mModel weights loaded successfully.\u001b[39m\u001b[38;5;124m\"\u001b[39m)\n\u001b[0;32m     10\u001b[0m \u001b[38;5;66;03m#print(\"Train the network first\")\u001b[39;00m\n\u001b[1;32m---> 11\u001b[0m t\u001b[38;5;241m.\u001b[39mtrain_net()\n",
      "File \u001b[1;32m~\\AGOP\\DLR\\trained_models\\MNIST\\model4\\trainer.py:62\u001b[0m, in \u001b[0;36mtrain_net\u001b[1;34m()\u001b[0m\n\u001b[0;32m     59\u001b[0m     net\u001b[38;5;241m.\u001b[39mload_state_dict(checkpoint[\u001b[38;5;124m'\u001b[39m\u001b[38;5;124mstate_dict\u001b[39m\u001b[38;5;124m'\u001b[39m])  \u001b[38;5;66;03m# Access the 'state_dict' within the loaded dictionary\u001b[39;00m\n\u001b[0;32m     60\u001b[0m     \u001b[38;5;28mprint\u001b[39m(\u001b[38;5;124m\"\u001b[39m\u001b[38;5;124mModel weights loaded successfully.\u001b[39m\u001b[38;5;124m\"\u001b[39m)    \n\u001b[1;32m---> 62\u001b[0m t\u001b[38;5;241m.\u001b[39mtrain_network(trainloader, valloader, testloader,\n\u001b[0;32m     63\u001b[0m                 num_classes\u001b[38;5;241m=\u001b[39m\u001b[38;5;241m10\u001b[39m, root_path\u001b[38;5;241m=\u001b[39m model_dir, \n\u001b[0;32m     64\u001b[0m                 optimizer\u001b[38;5;241m=\u001b[39mtorch\u001b[38;5;241m.\u001b[39moptim\u001b[38;5;241m.\u001b[39mSGD(net\u001b[38;5;241m.\u001b[39mparameters(), lr\u001b[38;5;241m=\u001b[39m\u001b[38;5;241m0.02\u001b[39m, momentum\u001b[38;5;241m=\u001b[39m\u001b[38;5;241m0.5\u001b[39m),\n\u001b[0;32m     65\u001b[0m                 lfn\u001b[38;5;241m=\u001b[39m  nn\u001b[38;5;241m.\u001b[39mNLLLoss(), \n\u001b[0;32m     66\u001b[0m                 num_epochs \u001b[38;5;241m=\u001b[39m \u001b[38;5;241m10\u001b[39m,\n\u001b[0;32m     67\u001b[0m                 name\u001b[38;5;241m=\u001b[39m\u001b[38;5;124m'\u001b[39m\u001b[38;5;124mmnist_gcnn\u001b[39m\u001b[38;5;124m'\u001b[39m, net\u001b[38;5;241m=\u001b[39mnet)\n",
      "File \u001b[1;32m~\\AGOP\\DLR\\utils\\trainer.py:79\u001b[0m, in \u001b[0;36mtrain_network\u001b[1;34m(train_loader, val_loader, test_loader, net, optimizer, lfn, root_path, num_classes, name, num_epochs, save_frames)\u001b[0m\n\u001b[0;32m     76\u001b[0m     torch\u001b[38;5;241m.\u001b[39msave(d, file_path)\n\u001b[0;32m     77\u001b[0m     net\u001b[38;5;241m.\u001b[39mcuda()\n\u001b[1;32m---> 79\u001b[0m train_loss \u001b[38;5;241m=\u001b[39m train_step(net, optimizer, lfn, train_loader, save_frames\u001b[38;5;241m=\u001b[39msave_frames)\n\u001b[0;32m     80\u001b[0m val_loss \u001b[38;5;241m=\u001b[39m val_step(net, val_loader, lfn)\n\u001b[0;32m     81\u001b[0m test_loss \u001b[38;5;241m=\u001b[39m val_step(net, test_loader, lfn)\n",
      "File \u001b[1;32m~\\AGOP\\DLR\\utils\\trainer.py:140\u001b[0m, in \u001b[0;36mtrain_step\u001b[1;34m(net, optimizer, lfn, train_loader, save_frames)\u001b[0m\n\u001b[0;32m    138\u001b[0m \u001b[38;5;66;03m#loss = torch.mean(torch.pow(output - target, 2))\u001b[39;00m\n\u001b[0;32m    139\u001b[0m loss\u001b[38;5;241m=\u001b[39m lfn(output,target)\n\u001b[1;32m--> 140\u001b[0m loss\u001b[38;5;241m.\u001b[39mbackward()\n\u001b[0;32m    141\u001b[0m optimizer\u001b[38;5;241m.\u001b[39mstep()\n\u001b[0;32m    142\u001b[0m train_loss \u001b[38;5;241m+\u001b[39m\u001b[38;5;241m=\u001b[39m loss\u001b[38;5;241m.\u001b[39mcpu()\u001b[38;5;241m.\u001b[39mdata\u001b[38;5;241m.\u001b[39mnumpy() \u001b[38;5;241m*\u001b[39m \u001b[38;5;28mlen\u001b[39m(inputs)\n",
      "File \u001b[1;32mC:\\ProgramData\\anaconda3\\Lib\\site-packages\\torch\\_tensor.py:626\u001b[0m, in \u001b[0;36mTensor.backward\u001b[1;34m(self, gradient, retain_graph, create_graph, inputs)\u001b[0m\n\u001b[0;32m    616\u001b[0m \u001b[38;5;28;01mif\u001b[39;00m has_torch_function_unary(\u001b[38;5;28mself\u001b[39m):\n\u001b[0;32m    617\u001b[0m     \u001b[38;5;28;01mreturn\u001b[39;00m handle_torch_function(\n\u001b[0;32m    618\u001b[0m         Tensor\u001b[38;5;241m.\u001b[39mbackward,\n\u001b[0;32m    619\u001b[0m         (\u001b[38;5;28mself\u001b[39m,),\n\u001b[1;32m   (...)\u001b[0m\n\u001b[0;32m    624\u001b[0m         inputs\u001b[38;5;241m=\u001b[39minputs,\n\u001b[0;32m    625\u001b[0m     )\n\u001b[1;32m--> 626\u001b[0m torch\u001b[38;5;241m.\u001b[39mautograd\u001b[38;5;241m.\u001b[39mbackward(\n\u001b[0;32m    627\u001b[0m     \u001b[38;5;28mself\u001b[39m, gradient, retain_graph, create_graph, inputs\u001b[38;5;241m=\u001b[39minputs\n\u001b[0;32m    628\u001b[0m )\n",
      "File \u001b[1;32mC:\\ProgramData\\anaconda3\\Lib\\site-packages\\torch\\autograd\\__init__.py:347\u001b[0m, in \u001b[0;36mbackward\u001b[1;34m(tensors, grad_tensors, retain_graph, create_graph, grad_variables, inputs)\u001b[0m\n\u001b[0;32m    342\u001b[0m     retain_graph \u001b[38;5;241m=\u001b[39m create_graph\n\u001b[0;32m    344\u001b[0m \u001b[38;5;66;03m# The reason we repeat the same comment below is that\u001b[39;00m\n\u001b[0;32m    345\u001b[0m \u001b[38;5;66;03m# some Python versions print out the first line of a multi-line function\u001b[39;00m\n\u001b[0;32m    346\u001b[0m \u001b[38;5;66;03m# calls in the traceback and some print out the last line\u001b[39;00m\n\u001b[1;32m--> 347\u001b[0m _engine_run_backward(\n\u001b[0;32m    348\u001b[0m     tensors,\n\u001b[0;32m    349\u001b[0m     grad_tensors_,\n\u001b[0;32m    350\u001b[0m     retain_graph,\n\u001b[0;32m    351\u001b[0m     create_graph,\n\u001b[0;32m    352\u001b[0m     inputs,\n\u001b[0;32m    353\u001b[0m     allow_unreachable\u001b[38;5;241m=\u001b[39m\u001b[38;5;28;01mTrue\u001b[39;00m,\n\u001b[0;32m    354\u001b[0m     accumulate_grad\u001b[38;5;241m=\u001b[39m\u001b[38;5;28;01mTrue\u001b[39;00m,\n\u001b[0;32m    355\u001b[0m )\n",
      "File \u001b[1;32mC:\\ProgramData\\anaconda3\\Lib\\site-packages\\torch\\autograd\\graph.py:823\u001b[0m, in \u001b[0;36m_engine_run_backward\u001b[1;34m(t_outputs, *args, **kwargs)\u001b[0m\n\u001b[0;32m    821\u001b[0m     unregister_hooks \u001b[38;5;241m=\u001b[39m _register_logging_hooks_on_whole_graph(t_outputs)\n\u001b[0;32m    822\u001b[0m \u001b[38;5;28;01mtry\u001b[39;00m:\n\u001b[1;32m--> 823\u001b[0m     \u001b[38;5;28;01mreturn\u001b[39;00m Variable\u001b[38;5;241m.\u001b[39m_execution_engine\u001b[38;5;241m.\u001b[39mrun_backward(  \u001b[38;5;66;03m# Calls into the C++ engine to run the backward pass\u001b[39;00m\n\u001b[0;32m    824\u001b[0m         t_outputs, \u001b[38;5;241m*\u001b[39margs, \u001b[38;5;241m*\u001b[39m\u001b[38;5;241m*\u001b[39mkwargs\n\u001b[0;32m    825\u001b[0m     )  \u001b[38;5;66;03m# Calls into the C++ engine to run the backward pass\u001b[39;00m\n\u001b[0;32m    826\u001b[0m \u001b[38;5;28;01mfinally\u001b[39;00m:\n\u001b[0;32m    827\u001b[0m     \u001b[38;5;28;01mif\u001b[39;00m attach_logging_hooks:\n",
      "\u001b[1;31mKeyboardInterrupt\u001b[0m: "
     ]
    }
   ],
   "source": [
    "trainloader, valloader, testloader = t.get_loaders()\n",
    "net= t.get_untrained_net()\n",
    "init_net= deepcopy(net)\n",
    "import os\n",
    "if os.path.exists(model_dir+'mnist_gcnn_trained_nn.pth'):\n",
    "    checkpoint = torch.load(model_dir+'mnist_gcnn_trained_nn.pth', map_location=torch.device(device))\n",
    "    net.load_state_dict(checkpoint['state_dict'])  # Access the 'state_dict' within the loaded dictionary\n",
    "    print(\"Model weights loaded successfully.\")\n",
    "\n",
    "#print(\"Train the network first\")\n",
    "t.train_net()"
   ]
  },
  {
   "cell_type": "code",
   "execution_count": 16,
   "id": "9a1ba576-4192-4bd2-8d6e-dc55bfcf50d7",
   "metadata": {},
   "outputs": [
    {
     "name": "stderr",
     "output_type": "stream",
     "text": [
      "C:\\Users\\garav\\AGOP\\DLR\\trained_models\\MNIST\\model4\\model4.py:38: UserWarning: Implicit dimension choice for log_softmax has been deprecated. Change the call to include dim=X as an argument.\n",
      "  return F.log_softmax(x)\n"
     ]
    }
   ],
   "source": [
    "tr.visualize_predictions(net, testloader, range(10), device, num_images=16)"
   ]
  },
  {
   "cell_type": "code",
   "execution_count": null,
   "id": "61e5bf8b-2d12-4016-9bd3-3ebd89848d4d",
   "metadata": {},
   "outputs": [],
   "source": []
  }
 ],
 "metadata": {
  "kernelspec": {
   "display_name": "Python [conda env:base] *",
   "language": "python",
   "name": "conda-base-py"
  },
  "language_info": {
   "codemirror_mode": {
    "name": "ipython",
    "version": 3
   },
   "file_extension": ".py",
   "mimetype": "text/x-python",
   "name": "python",
   "nbconvert_exporter": "python",
   "pygments_lexer": "ipython3",
   "version": "3.12.7"
  }
 },
 "nbformat": 4,
 "nbformat_minor": 5
}
